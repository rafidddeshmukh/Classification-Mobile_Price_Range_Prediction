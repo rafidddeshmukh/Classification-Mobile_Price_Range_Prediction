{
  "nbformat": 4,
  "nbformat_minor": 0,
  "metadata": {
    "colab": {
      "provenance": [],
      "collapsed_sections": [
        "vncDsAP0Gaoa",
        "FJNUwmbgGyua",
        "w6K7xa23Elo4",
        "yQaldy8SH6Dl",
        "mDgbUHAGgjLW",
        "O_i_v8NEhb9l",
        "HhfV-JJviCcP",
        "Y3lxredqlCYt",
        "3RnN4peoiCZX",
        "x71ZqKXriCWQ",
        "7hBIi_osiCS2",
        "JlHwYmJAmNHm",
        "35m5QtbWiB9F",
        "PoPl-ycgm1ru",
        "H0kj-8xxnORC",
        "nA9Y7ga8ng1Z",
        "PBTbrJXOngz2",
        "u3PMJOP6ngxN",
        "dauF4eBmngu3",
        "bKJF3rekwFvQ",
        "MSa1f5Uengrz",
        "GF8Ens_Soomf",
        "0wOQAZs5pc--",
        "K5QZ13OEpz2H",
        "lQ7QKXXCp7Bj",
        "448CDAPjqfQr",
        "KSlN3yHqYklG",
        "t6dVpIINYklI",
        "ijmpgYnKYklI",
        "-JiQyfWJYklI",
        "EM7whBJCYoAo",
        "fge-S5ZAYoAp",
        "85gYPyotYoAp",
        "RoGjAbkUYoAp",
        "4Of9eVA-YrdM",
        "iky9q4vBYrdO",
        "F6T5p64dYrdO",
        "y-Ehk30pYrdP",
        "bamQiAODYuh1",
        "QHF8YVU7Yuh3",
        "GwzvFGzlYuh3",
        "qYpmQ266Yuh3",
        "OH-pJp9IphqM",
        "bbFf2-_FphqN",
        "_ouA3fa0phqN",
        "Seke61FWphqN",
        "PIIx-8_IphqN",
        "t27r6nlMphqO",
        "r2jJGEOYphqO",
        "b0JNsNcRphqO",
        "BZR9WyysphqO",
        "jj7wYXLtphqO",
        "eZrbJ2SmphqO",
        "rFu4xreNphqO",
        "YJ55k-q6phqO",
        "gCFgpxoyphqP",
        "OVtJsKN_phqQ",
        "lssrdh5qphqQ",
        "U2RJ9gkRphqQ",
        "1M8mcRywphqQ",
        "tgIPom80phqQ",
        "JMzcOPDDphqR",
        "x-EpHcCOp1ci",
        "X_VqEhTip1ck",
        "8zGJKyg5p1ck",
        "PVzmfK_Ep1ck",
        "n3dbpmDWp1ck",
        "ylSl6qgtp1ck",
        "ZWILFDl5p1ck",
        "M7G43BXep1ck",
        "Ag9LCva-p1cl",
        "E6MkPsBcp1cl",
        "2cELzS2fp1cl",
        "3MPXvC8up1cl",
        "NC_X3p0fY2L0",
        "UV0SzAkaZNRQ",
        "YPEH6qLeZNRQ",
        "q29F0dvdveiT",
        "EXh0U9oCveiU",
        "22aHeOlLveiV",
        "g-ATYxFrGrvw",
        "Yfr_Vlr8HBkt",
        "8yEUt7NnHlrM",
        "tEA2Xm5dHt1r",
        "I79__PHVH19G",
        "Ou-I18pAyIpj",
        "fF3858GYyt-u",
        "4_0_7-oCpUZd",
        "hwyV_J3ipUZe",
        "3yB-zSqbpUZe",
        "dEUvejAfpUZe",
        "Fd15vwWVpUZf",
        "bn_IUdTipZyH",
        "49K5P_iCpZyH",
        "Nff-vKELpZyI",
        "kLW572S8pZyI",
        "dWbDXHzopZyI",
        "yLjJCtPM0KBk",
        "xiyOF9F70UgQ",
        "7wuGOrhz0itI",
        "id1riN9m0vUs",
        "578E2V7j08f6",
        "89xtkJwZ18nB",
        "67NQN5KX2AMe",
        "Iwf50b-R2tYG",
        "GMQiZwjn3iu7",
        "WVIkgGqN3qsr",
        "XkPnILGE3zoT",
        "Hlsf0x5436Go",
        "mT9DMSJo4nBL",
        "c49ITxTc407N",
        "OeJFEK0N496M",
        "9ExmJH0g5HBk",
        "cJNqERVU536h",
        "k5UmGsbsOxih",
        "T0VqWOYE6DLQ",
        "qBMux9mC6MCf",
        "-oLEiFgy-5Pf",
        "C74aWNz2AliB",
        "2DejudWSA-a0",
        "pEMng2IbBLp7",
        "rAdphbQ9Bhjc",
        "TNVZ9zx19K6k",
        "nqoHp30x9hH9",
        "rMDnDkt2B6du",
        "yiiVWRdJDDil",
        "1UUpS68QDMuG",
        "kexQrXU-DjzY",
        "T5CmagL3EC8N",
        "BhH2vgX9EjGr",
        "qjKvONjwE8ra",
        "P1XJ9OREExlT",
        "VFOzZv6IFROw",
        "TIqpNgepFxVj",
        "VfCC591jGiD4",
        "OB4l2ZhMeS1U",
        "ArJBuiUVfxKd",
        "4qY1EAkEfxKe",
        "PiV4Ypx8fxKe",
        "TfvqoZmBfxKf",
        "dJ2tPlVmpsJ0",
        "JWYfwnehpsJ1",
        "-jK_YjpMpsJ2",
        "HAih1iBOpsJ2",
        "zVGeBEFhpsJ2",
        "bmKjuQ-FpsJ3",
        "Fze-IPXLpx6K",
        "7AN1z2sKpx6M",
        "9PIHJqyupx6M",
        "_-qAgymDpx6N",
        "Z-hykwinpx6N",
        "h_CCil-SKHpo",
        "cBFFvTBNJzUa",
        "HvGl1hHyA_VK",
        "EyNgTHvd2WFk",
        "KH5McJBi2d8v",
        "iW_Lq9qf2h6X",
        "-Kee-DAl2viO",
        "gCX9965dhzqZ",
        "gIfDvo9L0UH2"
      ],
      "include_colab_link": true
    },
    "kernelspec": {
      "name": "python3",
      "display_name": "Python 3"
    },
    "language_info": {
      "name": "python"
    },
    "gpuClass": "standard"
  },
  "cells": [
    {
      "cell_type": "markdown",
      "metadata": {
        "id": "view-in-github",
        "colab_type": "text"
      },
      "source": [
        "<a href=\"https://colab.research.google.com/github/rafidddeshmukh/Classification-Mobile_Price_Range_Prediction/blob/main/Classification_Mobile_Price_Range_Prediction.ipynb\" target=\"_parent\"><img src=\"https://colab.research.google.com/assets/colab-badge.svg\" alt=\"Open In Colab\"/></a>"
      ]
    },
    {
      "cell_type": "markdown",
      "source": [
        "# **Project Name**    - **Mobile Price Range Prediction**\n",
        "\n"
      ],
      "metadata": {
        "id": "vncDsAP0Gaoa"
      }
    },
    {
      "cell_type": "markdown",
      "source": [
        "##### **Project Type**    - Classification\n",
        "##### **Contribution**    - Rafid Deshmukh(Individual)"
      ],
      "metadata": {
        "id": "beRrZCGUAJYm"
      }
    },
    {
      "cell_type": "markdown",
      "source": [
        "# **Project Summary -**"
      ],
      "metadata": {
        "id": "FJNUwmbgGyua"
      }
    },
    {
      "cell_type": "markdown",
      "source": [
        "Hey there! In this project, we will be working on predicting the price range of mobile phones based on their features. We will be using machine learning algorithms to build a model that can accurately classify mobile phones into one of four price ranges: low-cost, mid-range, high-range, and very high-range.\n",
        "\n",
        "The dataset that we will be using contains information about various mobile phones, including their features and selling price range. The dependent variable or target variable in this project is the price range of the mobile phone.\n",
        "\n",
        "To complete this project, we will need to preprocess the data by cleaning and  features engineering, and then splitting it into training and test sets. We can use a variety of machine learning algorithms such as logistic regression, decision trees, or random forests to build the prediction model.\n",
        "\n",
        "Once we have built and trained the model, we can use it to predict the price range of new mobile phones based on their features. We can also interpret the results of the model to identify the most important features that are influencing mobile phone prices."
      ],
      "metadata": {
        "id": "F6v_1wHtG2nS"
      }
    },
    {
      "cell_type": "markdown",
      "source": [
        "# **GitHub Link -**"
      ],
      "metadata": {
        "id": "w6K7xa23Elo4"
      }
    },
    {
      "cell_type": "markdown",
      "source": [
        "https://github.com/rafidddeshmukh/Classification-Mobile_Price_Range_Prediction"
      ],
      "metadata": {
        "id": "h1o69JH3Eqqn"
      }
    },
    {
      "cell_type": "markdown",
      "source": [
        "# **Problem Statement**\n"
      ],
      "metadata": {
        "id": "yQaldy8SH6Dl"
      }
    },
    {
      "cell_type": "markdown",
      "source": [
        "In the competitive mobile phone market companies want to understand sales data of mobile phones and factors which drive the prices. The objective is to find out some relation between features of a mobile phone(eg:- RAM, Internal Memory, etc) and its selling price. In this problem, we do not have to predict the actual price but a price range indicating how high the price is.\n",
        "\n"
      ],
      "metadata": {
        "id": "DpeJGUA3kjGy"
      }
    },
    {
      "cell_type": "markdown",
      "source": [
        "# **General Guidelines** : -  "
      ],
      "metadata": {
        "id": "mDgbUHAGgjLW"
      }
    },
    {
      "cell_type": "markdown",
      "source": [
        "1.   Well-structured, formatted, and commented code is required. \n",
        "2.   Exception Handling, Production Grade Code & Deployment Ready Code will be a plus. Those students will be awarded some additional credits. \n",
        "     \n",
        "     The additional credits will have advantages over other students during Star Student selection.\n",
        "       \n",
        "             [ Note: - Deployment Ready Code is defined as, the whole .ipynb notebook should be executable in one go\n",
        "                       without a single error logged. ]\n",
        "\n",
        "3.   Each and every logic should have proper comments.\n",
        "4. You may add as many number of charts you want. Make Sure for each and every chart the following format should be answered.\n",
        "        \n",
        "\n",
        "```\n",
        "# Chart visualization code\n",
        "```\n",
        "            \n",
        "\n",
        "*   Why did you pick the specific chart?\n",
        "*   What is/are the insight(s) found from the chart?\n",
        "* Will the gained insights help creating a positive business impact? \n",
        "Are there any insights that lead to negative growth? Justify with specific reason.\n",
        "\n",
        "5. You have to create at least 15 logical & meaningful charts having important insights.\n",
        "\n",
        "\n",
        "[ Hints : - Do the Vizualization in  a structured way while following \"UBM\" Rule. \n",
        "\n",
        "U - Univariate Analysis,\n",
        "\n",
        "B - Bivariate Analysis (Numerical - Categorical, Numerical - Numerical, Categorical - Categorical)\n",
        "\n",
        "M - Multivariate Analysis\n",
        " ]\n",
        "\n",
        "\n",
        "\n",
        "\n",
        "\n",
        "6. You may add more ml algorithms for model creation. Make sure for each and every algorithm, the following format should be answered.\n",
        "\n",
        "\n",
        "*   Explain the ML Model used and it's performance using Evaluation metric Score Chart.\n",
        "\n",
        "\n",
        "*   Cross- Validation & Hyperparameter Tuning\n",
        "\n",
        "*   Have you seen any improvement? Note down the improvement with updates Evaluation metric Score Chart.\n",
        "\n",
        "*   Explain each evaluation metric's indication towards business and the business impact pf the ML model used.\n",
        "\n",
        "\n",
        "\n",
        "\n",
        "\n",
        "\n",
        "\n",
        "\n",
        "\n",
        "\n",
        "\n",
        "\n",
        "\n",
        "\n",
        "\n",
        "\n",
        "\n",
        "\n"
      ],
      "metadata": {
        "id": "ZrxVaUj-hHfC"
      }
    },
    {
      "cell_type": "markdown",
      "source": [
        "# ***Let's Begin !***"
      ],
      "metadata": {
        "id": "O_i_v8NEhb9l"
      }
    },
    {
      "cell_type": "markdown",
      "source": [
        "## ***1. Know Your Data***"
      ],
      "metadata": {
        "id": "HhfV-JJviCcP"
      }
    },
    {
      "cell_type": "markdown",
      "source": [
        "### Import Libraries"
      ],
      "metadata": {
        "id": "Y3lxredqlCYt"
      }
    },
    {
      "cell_type": "code",
      "source": [
        "# Import Libraries\n",
        "import numpy as np\n",
        "import pandas as pd\n",
        "import matplotlib.pyplot as plt\n",
        "import seaborn as sns\n",
        "\n",
        "# Importing warnings library\n",
        "import warnings\n",
        "warnings.filterwarnings('ignore')"
      ],
      "metadata": {
        "id": "M8Vqi-pPk-HR"
      },
      "execution_count": 2,
      "outputs": []
    },
    {
      "cell_type": "code",
      "source": [
        "#Connecting Drive\n",
        "from google.colab import drive\n",
        "drive.mount('/content/drive')"
      ],
      "metadata": {
        "colab": {
          "base_uri": "https://localhost:8080/"
        },
        "id": "2KRJkWZmd0Zb",
        "outputId": "296095a6-608a-463c-ef87-46cf070f6cfe"
      },
      "execution_count": 3,
      "outputs": [
        {
          "output_type": "stream",
          "name": "stdout",
          "text": [
            "Mounted at /content/drive\n"
          ]
        }
      ]
    },
    {
      "cell_type": "markdown",
      "source": [
        "### Dataset Loading"
      ],
      "metadata": {
        "id": "3RnN4peoiCZX"
      }
    },
    {
      "cell_type": "code",
      "source": [
        "# Load Dataset\n",
        "mobile_df = pd.read_csv('/content/drive/MyDrive/Colab Notebooks/Almabeter/4.ML/3.Non Linear Algorithm/Project/Classification: Mobile Price Range Prediction/data_mobile_price_range.csv')"
      ],
      "metadata": {
        "id": "4CkvbW_SlZ_R"
      },
      "execution_count": 4,
      "outputs": []
    },
    {
      "cell_type": "markdown",
      "source": [
        "### Dataset First View"
      ],
      "metadata": {
        "id": "x71ZqKXriCWQ"
      }
    },
    {
      "cell_type": "code",
      "source": [
        "# Dataset First Look\n",
        "mobile_df.head()"
      ],
      "metadata": {
        "id": "LWNFOSvLl09H",
        "colab": {
          "base_uri": "https://localhost:8080/",
          "height": 299
        },
        "outputId": "a6755f8a-58b0-4d77-b037-4a926fc3310d"
      },
      "execution_count": 5,
      "outputs": [
        {
          "output_type": "execute_result",
          "data": {
            "text/plain": [
              "   battery_power  blue  clock_speed  dual_sim  fc  four_g  int_memory  m_dep  \\\n",
              "0            842     0          2.2         0   1       0           7    0.6   \n",
              "1           1021     1          0.5         1   0       1          53    0.7   \n",
              "2            563     1          0.5         1   2       1          41    0.9   \n",
              "3            615     1          2.5         0   0       0          10    0.8   \n",
              "4           1821     1          1.2         0  13       1          44    0.6   \n",
              "\n",
              "   mobile_wt  n_cores  ...  px_height  px_width   ram  sc_h  sc_w  talk_time  \\\n",
              "0        188        2  ...         20       756  2549     9     7         19   \n",
              "1        136        3  ...        905      1988  2631    17     3          7   \n",
              "2        145        5  ...       1263      1716  2603    11     2          9   \n",
              "3        131        6  ...       1216      1786  2769    16     8         11   \n",
              "4        141        2  ...       1208      1212  1411     8     2         15   \n",
              "\n",
              "   three_g  touch_screen  wifi  price_range  \n",
              "0        0             0     1            1  \n",
              "1        1             1     0            2  \n",
              "2        1             1     0            2  \n",
              "3        1             0     0            2  \n",
              "4        1             1     0            1  \n",
              "\n",
              "[5 rows x 21 columns]"
            ],
            "text/html": [
              "\n",
              "  <div id=\"df-3ce8de65-dcbe-42ca-a04b-c0b96de58dc6\">\n",
              "    <div class=\"colab-df-container\">\n",
              "      <div>\n",
              "<style scoped>\n",
              "    .dataframe tbody tr th:only-of-type {\n",
              "        vertical-align: middle;\n",
              "    }\n",
              "\n",
              "    .dataframe tbody tr th {\n",
              "        vertical-align: top;\n",
              "    }\n",
              "\n",
              "    .dataframe thead th {\n",
              "        text-align: right;\n",
              "    }\n",
              "</style>\n",
              "<table border=\"1\" class=\"dataframe\">\n",
              "  <thead>\n",
              "    <tr style=\"text-align: right;\">\n",
              "      <th></th>\n",
              "      <th>battery_power</th>\n",
              "      <th>blue</th>\n",
              "      <th>clock_speed</th>\n",
              "      <th>dual_sim</th>\n",
              "      <th>fc</th>\n",
              "      <th>four_g</th>\n",
              "      <th>int_memory</th>\n",
              "      <th>m_dep</th>\n",
              "      <th>mobile_wt</th>\n",
              "      <th>n_cores</th>\n",
              "      <th>...</th>\n",
              "      <th>px_height</th>\n",
              "      <th>px_width</th>\n",
              "      <th>ram</th>\n",
              "      <th>sc_h</th>\n",
              "      <th>sc_w</th>\n",
              "      <th>talk_time</th>\n",
              "      <th>three_g</th>\n",
              "      <th>touch_screen</th>\n",
              "      <th>wifi</th>\n",
              "      <th>price_range</th>\n",
              "    </tr>\n",
              "  </thead>\n",
              "  <tbody>\n",
              "    <tr>\n",
              "      <th>0</th>\n",
              "      <td>842</td>\n",
              "      <td>0</td>\n",
              "      <td>2.2</td>\n",
              "      <td>0</td>\n",
              "      <td>1</td>\n",
              "      <td>0</td>\n",
              "      <td>7</td>\n",
              "      <td>0.6</td>\n",
              "      <td>188</td>\n",
              "      <td>2</td>\n",
              "      <td>...</td>\n",
              "      <td>20</td>\n",
              "      <td>756</td>\n",
              "      <td>2549</td>\n",
              "      <td>9</td>\n",
              "      <td>7</td>\n",
              "      <td>19</td>\n",
              "      <td>0</td>\n",
              "      <td>0</td>\n",
              "      <td>1</td>\n",
              "      <td>1</td>\n",
              "    </tr>\n",
              "    <tr>\n",
              "      <th>1</th>\n",
              "      <td>1021</td>\n",
              "      <td>1</td>\n",
              "      <td>0.5</td>\n",
              "      <td>1</td>\n",
              "      <td>0</td>\n",
              "      <td>1</td>\n",
              "      <td>53</td>\n",
              "      <td>0.7</td>\n",
              "      <td>136</td>\n",
              "      <td>3</td>\n",
              "      <td>...</td>\n",
              "      <td>905</td>\n",
              "      <td>1988</td>\n",
              "      <td>2631</td>\n",
              "      <td>17</td>\n",
              "      <td>3</td>\n",
              "      <td>7</td>\n",
              "      <td>1</td>\n",
              "      <td>1</td>\n",
              "      <td>0</td>\n",
              "      <td>2</td>\n",
              "    </tr>\n",
              "    <tr>\n",
              "      <th>2</th>\n",
              "      <td>563</td>\n",
              "      <td>1</td>\n",
              "      <td>0.5</td>\n",
              "      <td>1</td>\n",
              "      <td>2</td>\n",
              "      <td>1</td>\n",
              "      <td>41</td>\n",
              "      <td>0.9</td>\n",
              "      <td>145</td>\n",
              "      <td>5</td>\n",
              "      <td>...</td>\n",
              "      <td>1263</td>\n",
              "      <td>1716</td>\n",
              "      <td>2603</td>\n",
              "      <td>11</td>\n",
              "      <td>2</td>\n",
              "      <td>9</td>\n",
              "      <td>1</td>\n",
              "      <td>1</td>\n",
              "      <td>0</td>\n",
              "      <td>2</td>\n",
              "    </tr>\n",
              "    <tr>\n",
              "      <th>3</th>\n",
              "      <td>615</td>\n",
              "      <td>1</td>\n",
              "      <td>2.5</td>\n",
              "      <td>0</td>\n",
              "      <td>0</td>\n",
              "      <td>0</td>\n",
              "      <td>10</td>\n",
              "      <td>0.8</td>\n",
              "      <td>131</td>\n",
              "      <td>6</td>\n",
              "      <td>...</td>\n",
              "      <td>1216</td>\n",
              "      <td>1786</td>\n",
              "      <td>2769</td>\n",
              "      <td>16</td>\n",
              "      <td>8</td>\n",
              "      <td>11</td>\n",
              "      <td>1</td>\n",
              "      <td>0</td>\n",
              "      <td>0</td>\n",
              "      <td>2</td>\n",
              "    </tr>\n",
              "    <tr>\n",
              "      <th>4</th>\n",
              "      <td>1821</td>\n",
              "      <td>1</td>\n",
              "      <td>1.2</td>\n",
              "      <td>0</td>\n",
              "      <td>13</td>\n",
              "      <td>1</td>\n",
              "      <td>44</td>\n",
              "      <td>0.6</td>\n",
              "      <td>141</td>\n",
              "      <td>2</td>\n",
              "      <td>...</td>\n",
              "      <td>1208</td>\n",
              "      <td>1212</td>\n",
              "      <td>1411</td>\n",
              "      <td>8</td>\n",
              "      <td>2</td>\n",
              "      <td>15</td>\n",
              "      <td>1</td>\n",
              "      <td>1</td>\n",
              "      <td>0</td>\n",
              "      <td>1</td>\n",
              "    </tr>\n",
              "  </tbody>\n",
              "</table>\n",
              "<p>5 rows × 21 columns</p>\n",
              "</div>\n",
              "      <button class=\"colab-df-convert\" onclick=\"convertToInteractive('df-3ce8de65-dcbe-42ca-a04b-c0b96de58dc6')\"\n",
              "              title=\"Convert this dataframe to an interactive table.\"\n",
              "              style=\"display:none;\">\n",
              "        \n",
              "  <svg xmlns=\"http://www.w3.org/2000/svg\" height=\"24px\"viewBox=\"0 0 24 24\"\n",
              "       width=\"24px\">\n",
              "    <path d=\"M0 0h24v24H0V0z\" fill=\"none\"/>\n",
              "    <path d=\"M18.56 5.44l.94 2.06.94-2.06 2.06-.94-2.06-.94-.94-2.06-.94 2.06-2.06.94zm-11 1L8.5 8.5l.94-2.06 2.06-.94-2.06-.94L8.5 2.5l-.94 2.06-2.06.94zm10 10l.94 2.06.94-2.06 2.06-.94-2.06-.94-.94-2.06-.94 2.06-2.06.94z\"/><path d=\"M17.41 7.96l-1.37-1.37c-.4-.4-.92-.59-1.43-.59-.52 0-1.04.2-1.43.59L10.3 9.45l-7.72 7.72c-.78.78-.78 2.05 0 2.83L4 21.41c.39.39.9.59 1.41.59.51 0 1.02-.2 1.41-.59l7.78-7.78 2.81-2.81c.8-.78.8-2.07 0-2.86zM5.41 20L4 18.59l7.72-7.72 1.47 1.35L5.41 20z\"/>\n",
              "  </svg>\n",
              "      </button>\n",
              "      \n",
              "  <style>\n",
              "    .colab-df-container {\n",
              "      display:flex;\n",
              "      flex-wrap:wrap;\n",
              "      gap: 12px;\n",
              "    }\n",
              "\n",
              "    .colab-df-convert {\n",
              "      background-color: #E8F0FE;\n",
              "      border: none;\n",
              "      border-radius: 50%;\n",
              "      cursor: pointer;\n",
              "      display: none;\n",
              "      fill: #1967D2;\n",
              "      height: 32px;\n",
              "      padding: 0 0 0 0;\n",
              "      width: 32px;\n",
              "    }\n",
              "\n",
              "    .colab-df-convert:hover {\n",
              "      background-color: #E2EBFA;\n",
              "      box-shadow: 0px 1px 2px rgba(60, 64, 67, 0.3), 0px 1px 3px 1px rgba(60, 64, 67, 0.15);\n",
              "      fill: #174EA6;\n",
              "    }\n",
              "\n",
              "    [theme=dark] .colab-df-convert {\n",
              "      background-color: #3B4455;\n",
              "      fill: #D2E3FC;\n",
              "    }\n",
              "\n",
              "    [theme=dark] .colab-df-convert:hover {\n",
              "      background-color: #434B5C;\n",
              "      box-shadow: 0px 1px 3px 1px rgba(0, 0, 0, 0.15);\n",
              "      filter: drop-shadow(0px 1px 2px rgba(0, 0, 0, 0.3));\n",
              "      fill: #FFFFFF;\n",
              "    }\n",
              "  </style>\n",
              "\n",
              "      <script>\n",
              "        const buttonEl =\n",
              "          document.querySelector('#df-3ce8de65-dcbe-42ca-a04b-c0b96de58dc6 button.colab-df-convert');\n",
              "        buttonEl.style.display =\n",
              "          google.colab.kernel.accessAllowed ? 'block' : 'none';\n",
              "\n",
              "        async function convertToInteractive(key) {\n",
              "          const element = document.querySelector('#df-3ce8de65-dcbe-42ca-a04b-c0b96de58dc6');\n",
              "          const dataTable =\n",
              "            await google.colab.kernel.invokeFunction('convertToInteractive',\n",
              "                                                     [key], {});\n",
              "          if (!dataTable) return;\n",
              "\n",
              "          const docLinkHtml = 'Like what you see? Visit the ' +\n",
              "            '<a target=\"_blank\" href=https://colab.research.google.com/notebooks/data_table.ipynb>data table notebook</a>'\n",
              "            + ' to learn more about interactive tables.';\n",
              "          element.innerHTML = '';\n",
              "          dataTable['output_type'] = 'display_data';\n",
              "          await google.colab.output.renderOutput(dataTable, element);\n",
              "          const docLink = document.createElement('div');\n",
              "          docLink.innerHTML = docLinkHtml;\n",
              "          element.appendChild(docLink);\n",
              "        }\n",
              "      </script>\n",
              "    </div>\n",
              "  </div>\n",
              "  "
            ]
          },
          "metadata": {},
          "execution_count": 5
        }
      ]
    },
    {
      "cell_type": "markdown",
      "source": [
        "### Dataset Rows & Columns count"
      ],
      "metadata": {
        "id": "7hBIi_osiCS2"
      }
    },
    {
      "cell_type": "code",
      "source": [
        "# Dataset Rows & Columns count\n",
        "mobile_df.shape"
      ],
      "metadata": {
        "id": "Kllu7SJgmLij",
        "colab": {
          "base_uri": "https://localhost:8080/"
        },
        "outputId": "03d5cee3-10c0-4804-f9e9-3a0f78b3e373"
      },
      "execution_count": 6,
      "outputs": [
        {
          "output_type": "execute_result",
          "data": {
            "text/plain": [
              "(2000, 21)"
            ]
          },
          "metadata": {},
          "execution_count": 6
        }
      ]
    },
    {
      "cell_type": "markdown",
      "source": [
        "### Dataset Information"
      ],
      "metadata": {
        "id": "JlHwYmJAmNHm"
      }
    },
    {
      "cell_type": "code",
      "source": [
        "# Dataset Info\n",
        "mobile_df.info()"
      ],
      "metadata": {
        "id": "e9hRXRi6meOf",
        "colab": {
          "base_uri": "https://localhost:8080/"
        },
        "outputId": "50dd63f8-5aa6-478b-d5ea-ac0984246c02"
      },
      "execution_count": 7,
      "outputs": [
        {
          "output_type": "stream",
          "name": "stdout",
          "text": [
            "<class 'pandas.core.frame.DataFrame'>\n",
            "RangeIndex: 2000 entries, 0 to 1999\n",
            "Data columns (total 21 columns):\n",
            " #   Column         Non-Null Count  Dtype  \n",
            "---  ------         --------------  -----  \n",
            " 0   battery_power  2000 non-null   int64  \n",
            " 1   blue           2000 non-null   int64  \n",
            " 2   clock_speed    2000 non-null   float64\n",
            " 3   dual_sim       2000 non-null   int64  \n",
            " 4   fc             2000 non-null   int64  \n",
            " 5   four_g         2000 non-null   int64  \n",
            " 6   int_memory     2000 non-null   int64  \n",
            " 7   m_dep          2000 non-null   float64\n",
            " 8   mobile_wt      2000 non-null   int64  \n",
            " 9   n_cores        2000 non-null   int64  \n",
            " 10  pc             2000 non-null   int64  \n",
            " 11  px_height      2000 non-null   int64  \n",
            " 12  px_width       2000 non-null   int64  \n",
            " 13  ram            2000 non-null   int64  \n",
            " 14  sc_h           2000 non-null   int64  \n",
            " 15  sc_w           2000 non-null   int64  \n",
            " 16  talk_time      2000 non-null   int64  \n",
            " 17  three_g        2000 non-null   int64  \n",
            " 18  touch_screen   2000 non-null   int64  \n",
            " 19  wifi           2000 non-null   int64  \n",
            " 20  price_range    2000 non-null   int64  \n",
            "dtypes: float64(2), int64(19)\n",
            "memory usage: 328.2 KB\n"
          ]
        }
      ]
    },
    {
      "cell_type": "markdown",
      "source": [
        "#### Duplicate Values"
      ],
      "metadata": {
        "id": "35m5QtbWiB9F"
      }
    },
    {
      "cell_type": "code",
      "source": [
        "# Dataset Duplicate Value Count\n",
        "# Check for duplicate rows\n",
        "num_duplicates = mobile_df.duplicated().sum()\n",
        "\n",
        "print(f\"Number of duplicate rows: {num_duplicates}\")"
      ],
      "metadata": {
        "id": "1sLdpKYkmox0",
        "colab": {
          "base_uri": "https://localhost:8080/"
        },
        "outputId": "1665590d-0085-468d-9892-2097146b45f5"
      },
      "execution_count": 8,
      "outputs": [
        {
          "output_type": "stream",
          "name": "stdout",
          "text": [
            "Number of duplicate rows: 0\n"
          ]
        }
      ]
    },
    {
      "cell_type": "markdown",
      "source": [
        "#### Missing Values/Null Values"
      ],
      "metadata": {
        "id": "PoPl-ycgm1ru"
      }
    },
    {
      "cell_type": "code",
      "source": [
        "# Missing Values/Null Values Count\n",
        "# Check for null values\n",
        "null_values = mobile_df.isnull().sum()\n",
        "print(null_values)"
      ],
      "metadata": {
        "id": "GgHWkxvamxVg",
        "colab": {
          "base_uri": "https://localhost:8080/"
        },
        "outputId": "eaea82d6-7882-4e2b-9892-68cd5993ce3d"
      },
      "execution_count": 10,
      "outputs": [
        {
          "output_type": "stream",
          "name": "stdout",
          "text": [
            "battery_power    0\n",
            "blue             0\n",
            "clock_speed      0\n",
            "dual_sim         0\n",
            "fc               0\n",
            "four_g           0\n",
            "int_memory       0\n",
            "m_dep            0\n",
            "mobile_wt        0\n",
            "n_cores          0\n",
            "pc               0\n",
            "px_height        0\n",
            "px_width         0\n",
            "ram              0\n",
            "sc_h             0\n",
            "sc_w             0\n",
            "talk_time        0\n",
            "three_g          0\n",
            "touch_screen     0\n",
            "wifi             0\n",
            "price_range      0\n",
            "dtype: int64\n"
          ]
        }
      ]
    },
    {
      "cell_type": "code",
      "source": [
        "# Visualizing the missing values\n",
        "# Visualize the null values\n",
        "sns.heatmap(mobile_df.isnull(), cmap='viridis')\n",
        "plt.show()"
      ],
      "metadata": {
        "id": "3q5wnI3om9sJ",
        "colab": {
          "base_uri": "https://localhost:8080/",
          "height": 332
        },
        "outputId": "75db752b-5c9d-4a26-d4fa-dde316e945e3"
      },
      "execution_count": 12,
      "outputs": [
        {
          "output_type": "display_data",
          "data": {
            "text/plain": [
              "<Figure size 432x288 with 2 Axes>"
            ],
            "image/png": "[encoded data removed]"
          },
          "metadata": {
            "needs_background": "light"
          }
        }
      ]
    },
    {
      "cell_type": "markdown",
      "source": [
        "### What did you know about your dataset?"
      ],
      "metadata": {
        "id": "H0kj-8xxnORC"
      }
    },
    {
      "cell_type": "markdown",
      "source": [
        "Based on the information available from the mobile_price_classification.csv dataset, here's what we know:\n",
        "\n",
        "*  The dataset contains information on mobile phones and their specifications.\n",
        "*  There are 20 features in the dataset, including battery power, clock speed, front camera resolution, internal memory, and others.\n",
        "*  There are 2,000 records in the dataset.\n",
        "*  The target variable is price_range, which indicates the price range of the mobile phone (0, 1, 2, or 3).\n",
        "\n",
        "However, there may be other aspects of the dataset that we are not aware of until we start exploring it further. It's important to take a closer look at the data, understand the relationships between the variables, and identify any patterns or trends that may exist in the data."
      ],
      "metadata": {
        "id": "gfoNAAC-nUe_"
      }
    },
    {
      "cell_type": "markdown",
      "source": [
        "## ***2. Understanding Your Variables***"
      ],
      "metadata": {
        "id": "nA9Y7ga8ng1Z"
      }
    },
    {
      "cell_type": "code",
      "source": [
        "# Dataset Columns\n",
        "mobile_df.columns"
      ],
      "metadata": {
        "id": "j7xfkqrt5Ag5",
        "colab": {
          "base_uri": "https://localhost:8080/"
        },
        "outputId": "221c950b-34de-47e8-d990-3d2969f6a5be"
      },
      "execution_count": 13,
      "outputs": [
        {
          "output_type": "execute_result",
          "data": {
            "text/plain": [
              "Index(['battery_power', 'blue', 'clock_speed', 'dual_sim', 'fc', 'four_g',\n",
              "       'int_memory', 'm_dep', 'mobile_wt', 'n_cores', 'pc', 'px_height',\n",
              "       'px_width', 'ram', 'sc_h', 'sc_w', 'talk_time', 'three_g',\n",
              "       'touch_screen', 'wifi', 'price_range'],\n",
              "      dtype='object')"
            ]
          },
          "metadata": {},
          "execution_count": 13
        }
      ]
    },
    {
      "cell_type": "code",
      "source": [
        "# Dataset Describe\n",
        "mobile_df.describe().transpose()"
      ],
      "metadata": {
        "id": "DnOaZdaE5Q5t",
        "colab": {
          "base_uri": "https://localhost:8080/",
          "height": 708
        },
        "outputId": "e47a5f55-56a4-4efe-903f-744513c13d0b"
      },
      "execution_count": 15,
      "outputs": [
        {
          "output_type": "execute_result",
          "data": {
            "text/plain": [
              "                count        mean          std    min      25%     50%  \\\n",
              "battery_power  2000.0  1238.51850   439.418206  501.0   851.75  1226.0   \n",
              "blue           2000.0     0.49500     0.500100    0.0     0.00     0.0   \n",
              "clock_speed    2000.0     1.52225     0.816004    0.5     0.70     1.5   \n",
              "dual_sim       2000.0     0.50950     0.500035    0.0     0.00     1.0   \n",
              "fc             2000.0     4.30950     4.341444    0.0     1.00     3.0   \n",
              "four_g         2000.0     0.52150     0.499662    0.0     0.00     1.0   \n",
              "int_memory     2000.0    32.04650    18.145715    2.0    16.00    32.0   \n",
              "m_dep          2000.0     0.50175     0.288416    0.1     0.20     0.5   \n",
              "mobile_wt      2000.0   140.24900    35.399655   80.0   109.00   141.0   \n",
              "n_cores        2000.0     4.52050     2.287837    1.0     3.00     4.0   \n",
              "pc             2000.0     9.91650     6.064315    0.0     5.00    10.0   \n",
              "px_height      2000.0   645.10800   443.780811    0.0   282.75   564.0   \n",
              "px_width       2000.0  1251.51550   432.199447  500.0   874.75  1247.0   \n",
              "ram            2000.0  2124.21300  1084.732044  256.0  1207.50  2146.5   \n",
              "sc_h           2000.0    12.30650     4.213245    5.0     9.00    12.0   \n",
              "sc_w           2000.0     5.76700     4.356398    0.0     2.00     5.0   \n",
              "talk_time      2000.0    11.01100     5.463955    2.0     6.00    11.0   \n",
              "three_g        2000.0     0.76150     0.426273    0.0     1.00     1.0   \n",
              "touch_screen   2000.0     0.50300     0.500116    0.0     0.00     1.0   \n",
              "wifi           2000.0     0.50700     0.500076    0.0     0.00     1.0   \n",
              "price_range    2000.0     1.50000     1.118314    0.0     0.75     1.5   \n",
              "\n",
              "                   75%     max  \n",
              "battery_power  1615.25  1998.0  \n",
              "blue              1.00     1.0  \n",
              "clock_speed       2.20     3.0  \n",
              "dual_sim          1.00     1.0  \n",
              "fc                7.00    19.0  \n",
              "four_g            1.00     1.0  \n",
              "int_memory       48.00    64.0  \n",
              "m_dep             0.80     1.0  \n",
              "mobile_wt       170.00   200.0  \n",
              "n_cores           7.00     8.0  \n",
              "pc               15.00    20.0  \n",
              "px_height       947.25  1960.0  \n",
              "px_width       1633.00  1998.0  \n",
              "ram            3064.50  3998.0  \n",
              "sc_h             16.00    19.0  \n",
              "sc_w              9.00    18.0  \n",
              "talk_time        16.00    20.0  \n",
              "three_g           1.00     1.0  \n",
              "touch_screen      1.00     1.0  \n",
              "wifi              1.00     1.0  \n",
              "price_range       2.25     3.0  "
            ],
            "text/html": [
              "\n",
              "  <div id=\"df-29383caa-e71a-493b-ae4f-8d9839e690a9\">\n",
              "    <div class=\"colab-df-container\">\n",
              "      <div>\n",
              "<style scoped>\n",
              "    .dataframe tbody tr th:only-of-type {\n",
              "        vertical-align: middle;\n",
              "    }\n",
              "\n",
              "    .dataframe tbody tr th {\n",
              "        vertical-align: top;\n",
              "    }\n",
              "\n",
              "    .dataframe thead th {\n",
              "        text-align: right;\n",
              "    }\n",
              "</style>\n",
              "<table border=\"1\" class=\"dataframe\">\n",
              "  <thead>\n",
              "    <tr style=\"text-align: right;\">\n",
              "      <th></th>\n",
              "      <th>count</th>\n",
              "      <th>mean</th>\n",
              "      <th>std</th>\n",
              "      <th>min</th>\n",
              "      <th>25%</th>\n",
              "      <th>50%</th>\n",
              "      <th>75%</th>\n",
              "      <th>max</th>\n",
              "    </tr>\n",
              "  </thead>\n",
              "  <tbody>\n",
              "    <tr>\n",
              "      <th>battery_power</th>\n",
              "      <td>2000.0</td>\n",
              "      <td>1238.51850</td>\n",
              "      <td>439.418206</td>\n",
              "      <td>501.0</td>\n",
              "      <td>851.75</td>\n",
              "      <td>1226.0</td>\n",
              "      <td>1615.25</td>\n",
              "      <td>1998.0</td>\n",
              "    </tr>\n",
              "    <tr>\n",
              "      <th>blue</th>\n",
              "      <td>2000.0</td>\n",
              "      <td>0.49500</td>\n",
              "      <td>0.500100</td>\n",
              "      <td>0.0</td>\n",
              "      <td>0.00</td>\n",
              "      <td>0.0</td>\n",
              "      <td>1.00</td>\n",
              "      <td>1.0</td>\n",
              "    </tr>\n",
              "    <tr>\n",
              "      <th>clock_speed</th>\n",
              "      <td>2000.0</td>\n",
              "      <td>1.52225</td>\n",
              "      <td>0.816004</td>\n",
              "      <td>0.5</td>\n",
              "      <td>0.70</td>\n",
              "      <td>1.5</td>\n",
              "      <td>2.20</td>\n",
              "      <td>3.0</td>\n",
              "    </tr>\n",
              "    <tr>\n",
              "      <th>dual_sim</th>\n",
              "      <td>2000.0</td>\n",
              "      <td>0.50950</td>\n",
              "      <td>0.500035</td>\n",
              "      <td>0.0</td>\n",
              "      <td>0.00</td>\n",
              "      <td>1.0</td>\n",
              "      <td>1.00</td>\n",
              "      <td>1.0</td>\n",
              "    </tr>\n",
              "    <tr>\n",
              "      <th>fc</th>\n",
              "      <td>2000.0</td>\n",
              "      <td>4.30950</td>\n",
              "      <td>4.341444</td>\n",
              "      <td>0.0</td>\n",
              "      <td>1.00</td>\n",
              "      <td>3.0</td>\n",
              "      <td>7.00</td>\n",
              "      <td>19.0</td>\n",
              "    </tr>\n",
              "    <tr>\n",
              "      <th>four_g</th>\n",
              "      <td>2000.0</td>\n",
              "      <td>0.52150</td>\n",
              "      <td>0.499662</td>\n",
              "      <td>0.0</td>\n",
              "      <td>0.00</td>\n",
              "      <td>1.0</td>\n",
              "      <td>1.00</td>\n",
              "      <td>1.0</td>\n",
              "    </tr>\n",
              "    <tr>\n",
              "      <th>int_memory</th>\n",
              "      <td>2000.0</td>\n",
              "      <td>32.04650</td>\n",
              "      <td>18.145715</td>\n",
              "      <td>2.0</td>\n",
              "      <td>16.00</td>\n",
              "      <td>32.0</td>\n",
              "      <td>48.00</td>\n",
              "      <td>64.0</td>\n",
              "    </tr>\n",
              "    <tr>\n",
              "      <th>m_dep</th>\n",
              "      <td>2000.0</td>\n",
              "      <td>0.50175</td>\n",
              "      <td>0.288416</td>\n",
              "      <td>0.1</td>\n",
              "      <td>0.20</td>\n",
              "      <td>0.5</td>\n",
              "      <td>0.80</td>\n",
              "      <td>1.0</td>\n",
              "    </tr>\n",
              "    <tr>\n",
              "      <th>mobile_wt</th>\n",
              "      <td>2000.0</td>\n",
              "      <td>140.24900</td>\n",
              "      <td>35.399655</td>\n",
              "      <td>80.0</td>\n",
              "      <td>109.00</td>\n",
              "      <td>141.0</td>\n",
              "      <td>170.00</td>\n",
              "      <td>200.0</td>\n",
              "    </tr>\n",
              "    <tr>\n",
              "      <th>n_cores</th>\n",
              "      <td>2000.0</td>\n",
              "      <td>4.52050</td>\n",
              "      <td>2.287837</td>\n",
              "      <td>1.0</td>\n",
              "      <td>3.00</td>\n",
              "      <td>4.0</td>\n",
              "      <td>7.00</td>\n",
              "      <td>8.0</td>\n",
              "    </tr>\n",
              "    <tr>\n",
              "      <th>pc</th>\n",
              "      <td>2000.0</td>\n",
              "      <td>9.91650</td>\n",
              "      <td>6.064315</td>\n",
              "      <td>0.0</td>\n",
              "      <td>5.00</td>\n",
              "      <td>10.0</td>\n",
              "      <td>15.00</td>\n",
              "      <td>20.0</td>\n",
              "    </tr>\n",
              "    <tr>\n",
              "      <th>px_height</th>\n",
              "      <td>2000.0</td>\n",
              "      <td>645.10800</td>\n",
              "      <td>443.780811</td>\n",
              "      <td>0.0</td>\n",
              "      <td>282.75</td>\n",
              "      <td>564.0</td>\n",
              "      <td>947.25</td>\n",
              "      <td>1960.0</td>\n",
              "    </tr>\n",
              "    <tr>\n",
              "      <th>px_width</th>\n",
              "      <td>2000.0</td>\n",
              "      <td>1251.51550</td>\n",
              "      <td>432.199447</td>\n",
              "      <td>500.0</td>\n",
              "      <td>874.75</td>\n",
              "      <td>1247.0</td>\n",
              "      <td>1633.00</td>\n",
              "      <td>1998.0</td>\n",
              "    </tr>\n",
              "    <tr>\n",
              "      <th>ram</th>\n",
              "      <td>2000.0</td>\n",
              "      <td>2124.21300</td>\n",
              "      <td>1084.732044</td>\n",
              "      <td>256.0</td>\n",
              "      <td>1207.50</td>\n",
              "      <td>2146.5</td>\n",
              "      <td>3064.50</td>\n",
              "      <td>3998.0</td>\n",
              "    </tr>\n",
              "    <tr>\n",
              "      <th>sc_h</th>\n",
              "      <td>2000.0</td>\n",
              "      <td>12.30650</td>\n",
              "      <td>4.213245</td>\n",
              "      <td>5.0</td>\n",
              "      <td>9.00</td>\n",
              "      <td>12.0</td>\n",
              "      <td>16.00</td>\n",
              "      <td>19.0</td>\n",
              "    </tr>\n",
              "    <tr>\n",
              "      <th>sc_w</th>\n",
              "      <td>2000.0</td>\n",
              "      <td>5.76700</td>\n",
              "      <td>4.356398</td>\n",
              "      <td>0.0</td>\n",
              "      <td>2.00</td>\n",
              "      <td>5.0</td>\n",
              "      <td>9.00</td>\n",
              "      <td>18.0</td>\n",
              "    </tr>\n",
              "    <tr>\n",
              "      <th>talk_time</th>\n",
              "      <td>2000.0</td>\n",
              "      <td>11.01100</td>\n",
              "      <td>5.463955</td>\n",
              "      <td>2.0</td>\n",
              "      <td>6.00</td>\n",
              "      <td>11.0</td>\n",
              "      <td>16.00</td>\n",
              "      <td>20.0</td>\n",
              "    </tr>\n",
              "    <tr>\n",
              "      <th>three_g</th>\n",
              "      <td>2000.0</td>\n",
              "      <td>0.76150</td>\n",
              "      <td>0.426273</td>\n",
              "      <td>0.0</td>\n",
              "      <td>1.00</td>\n",
              "      <td>1.0</td>\n",
              "      <td>1.00</td>\n",
              "      <td>1.0</td>\n",
              "    </tr>\n",
              "    <tr>\n",
              "      <th>touch_screen</th>\n",
              "      <td>2000.0</td>\n",
              "      <td>0.50300</td>\n",
              "      <td>0.500116</td>\n",
              "      <td>0.0</td>\n",
              "      <td>0.00</td>\n",
              "      <td>1.0</td>\n",
              "      <td>1.00</td>\n",
              "      <td>1.0</td>\n",
              "    </tr>\n",
              "    <tr>\n",
              "      <th>wifi</th>\n",
              "      <td>2000.0</td>\n",
              "      <td>0.50700</td>\n",
              "      <td>0.500076</td>\n",
              "      <td>0.0</td>\n",
              "      <td>0.00</td>\n",
              "      <td>1.0</td>\n",
              "      <td>1.00</td>\n",
              "      <td>1.0</td>\n",
              "    </tr>\n",
              "    <tr>\n",
              "      <th>price_range</th>\n",
              "      <td>2000.0</td>\n",
              "      <td>1.50000</td>\n",
              "      <td>1.118314</td>\n",
              "      <td>0.0</td>\n",
              "      <td>0.75</td>\n",
              "      <td>1.5</td>\n",
              "      <td>2.25</td>\n",
              "      <td>3.0</td>\n",
              "    </tr>\n",
              "  </tbody>\n",
              "</table>\n",
              "</div>\n",
              "      <button class=\"colab-df-convert\" onclick=\"convertToInteractive('df-29383caa-e71a-493b-ae4f-8d9839e690a9')\"\n",
              "              title=\"Convert this dataframe to an interactive table.\"\n",
              "              style=\"display:none;\">\n",
              "        \n",
              "  <svg xmlns=\"http://www.w3.org/2000/svg\" height=\"24px\"viewBox=\"0 0 24 24\"\n",
              "       width=\"24px\">\n",
              "    <path d=\"M0 0h24v24H0V0z\" fill=\"none\"/>\n",
              "    <path d=\"M18.56 5.44l.94 2.06.94-2.06 2.06-.94-2.06-.94-.94-2.06-.94 2.06-2.06.94zm-11 1L8.5 8.5l.94-2.06 2.06-.94-2.06-.94L8.5 2.5l-.94 2.06-2.06.94zm10 10l.94 2.06.94-2.06 2.06-.94-2.06-.94-.94-2.06-.94 2.06-2.06.94z\"/><path d=\"M17.41 7.96l-1.37-1.37c-.4-.4-.92-.59-1.43-.59-.52 0-1.04.2-1.43.59L10.3 9.45l-7.72 7.72c-.78.78-.78 2.05 0 2.83L4 21.41c.39.39.9.59 1.41.59.51 0 1.02-.2 1.41-.59l7.78-7.78 2.81-2.81c.8-.78.8-2.07 0-2.86zM5.41 20L4 18.59l7.72-7.72 1.47 1.35L5.41 20z\"/>\n",
              "  </svg>\n",
              "      </button>\n",
              "      \n",
              "  <style>\n",
              "    .colab-df-container {\n",
              "      display:flex;\n",
              "      flex-wrap:wrap;\n",
              "      gap: 12px;\n",
              "    }\n",
              "\n",
              "    .colab-df-convert {\n",
              "      background-color: #E8F0FE;\n",
              "      border: none;\n",
              "      border-radius: 50%;\n",
              "      cursor: pointer;\n",
              "      display: none;\n",
              "      fill: #1967D2;\n",
              "      height: 32px;\n",
              "      padding: 0 0 0 0;\n",
              "      width: 32px;\n",
              "    }\n",
              "\n",
              "    .colab-df-convert:hover {\n",
              "      background-color: #E2EBFA;\n",
              "      box-shadow: 0px 1px 2px rgba(60, 64, 67, 0.3), 0px 1px 3px 1px rgba(60, 64, 67, 0.15);\n",
              "      fill: #174EA6;\n",
              "    }\n",
              "\n",
              "    [theme=dark] .colab-df-convert {\n",
              "      background-color: #3B4455;\n",
              "      fill: #D2E3FC;\n",
              "    }\n",
              "\n",
              "    [theme=dark] .colab-df-convert:hover {\n",
              "      background-color: #434B5C;\n",
              "      box-shadow: 0px 1px 3px 1px rgba(0, 0, 0, 0.15);\n",
              "      filter: drop-shadow(0px 1px 2px rgba(0, 0, 0, 0.3));\n",
              "      fill: #FFFFFF;\n",
              "    }\n",
              "  </style>\n",
              "\n",
              "      <script>\n",
              "        const buttonEl =\n",
              "          document.querySelector('#df-29383caa-e71a-493b-ae4f-8d9839e690a9 button.colab-df-convert');\n",
              "        buttonEl.style.display =\n",
              "          google.colab.kernel.accessAllowed ? 'block' : 'none';\n",
              "\n",
              "        async function convertToInteractive(key) {\n",
              "          const element = document.querySelector('#df-29383caa-e71a-493b-ae4f-8d9839e690a9');\n",
              "          const dataTable =\n",
              "            await google.colab.kernel.invokeFunction('convertToInteractive',\n",
              "                                                     [key], {});\n",
              "          if (!dataTable) return;\n",
              "\n",
              "          const docLinkHtml = 'Like what you see? Visit the ' +\n",
              "            '<a target=\"_blank\" href=https://colab.research.google.com/notebooks/data_table.ipynb>data table notebook</a>'\n",
              "            + ' to learn more about interactive tables.';\n",
              "          element.innerHTML = '';\n",
              "          dataTable['output_type'] = 'display_data';\n",
              "          await google.colab.output.renderOutput(dataTable, element);\n",
              "          const docLink = document.createElement('div');\n",
              "          docLink.innerHTML = docLinkHtml;\n",
              "          element.appendChild(docLink);\n",
              "        }\n",
              "      </script>\n",
              "    </div>\n",
              "  </div>\n",
              "  "
            ]
          },
          "metadata": {},
          "execution_count": 15
        }
      ]
    },
    {
      "cell_type": "markdown",
      "source": [
        "### Variables Description "
      ],
      "metadata": {
        "id": "PBTbrJXOngz2"
      }
    },
    {
      "cell_type": "markdown",
      "source": [
        "![image.png](data:image/png;base64,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)\n",
        "\n",
        "\n",
        "Here Dependent vaiable is Price_range"
      ],
      "metadata": {
        "id": "aJV4KIxSnxay"
      }
    },
    {
      "cell_type": "markdown",
      "source": [
        "### Check Unique Values for each variable."
      ],
      "metadata": {
        "id": "u3PMJOP6ngxN"
      }
    },
    {
      "cell_type": "code",
      "source": [
        "# Check Unique Values for each variable.\n",
        "# Check for unique values in each column\n",
        "unique_values = mobile_df.nunique().sort_values(ascending=False)\n",
        "print(unique_values)"
      ],
      "metadata": {
        "id": "zms12Yq5n-jE",
        "colab": {
          "base_uri": "https://localhost:8080/"
        },
        "outputId": "91121865-4616-4d79-d97c-639b724876d0"
      },
      "execution_count": 20,
      "outputs": [
        {
          "output_type": "stream",
          "name": "stdout",
          "text": [
            "ram              1562\n",
            "px_height        1137\n",
            "px_width         1109\n",
            "battery_power    1094\n",
            "mobile_wt         121\n",
            "int_memory         63\n",
            "clock_speed        26\n",
            "pc                 21\n",
            "fc                 20\n",
            "sc_w               19\n",
            "talk_time          19\n",
            "sc_h               15\n",
            "m_dep              10\n",
            "n_cores             8\n",
            "price_range         4\n",
            "blue                2\n",
            "four_g              2\n",
            "dual_sim            2\n",
            "three_g             2\n",
            "touch_screen        2\n",
            "wifi                2\n",
            "dtype: int64\n"
          ]
        }
      ]
    },
    {
      "cell_type": "markdown",
      "source": [
        "## 3. ***Data Wrangling***"
      ],
      "metadata": {
        "id": "dauF4eBmngu3"
      }
    },
    {
      "cell_type": "markdown",
      "source": [
        "### Data Wrangling Code"
      ],
      "metadata": {
        "id": "bKJF3rekwFvQ"
      }
    },
    {
      "cell_type": "code",
      "source": [
        "# Write your code to make your dataset analysis ready."
      ],
      "metadata": {
        "id": "wk-9a2fpoLcV"
      },
      "execution_count": null,
      "outputs": []
    },
    {
      "cell_type": "markdown",
      "source": [
        "### What all manipulations have you done and insights you found?"
      ],
      "metadata": {
        "id": "MSa1f5Uengrz"
      }
    },
    {
      "cell_type": "markdown",
      "source": [
        "Answer Here."
      ],
      "metadata": {
        "id": "LbyXE7I1olp8"
      }
    },
    {
      "cell_type": "markdown",
      "source": [
        "## ***4. Data Vizualization, Storytelling & Experimenting with charts : Understand the relationships between variables***"
      ],
      "metadata": {
        "id": "GF8Ens_Soomf"
      }
    },
    {
      "cell_type": "markdown",
      "source": [
        "#### Chart - 1"
      ],
      "metadata": {
        "id": "0wOQAZs5pc--"
      }
    },
    {
      "cell_type": "code",
      "source": [
        "# Chart - 1 visualization code\n",
        "# plot histogram of battery power\n",
        "sns.histplot(data=mobile_df, x='battery_power', kde=True) \n"
      ],
      "metadata": {
        "id": "7v_ESjsspbW7",
        "colab": {
          "base_uri": "https://localhost:8080/",
          "height": 298
        },
        "outputId": "6b3b2ecd-1f8a-4a60-db05-9476805f9ab9"
      },
      "execution_count": 21,
      "outputs": [
        {
          "output_type": "execute_result",
          "data": {
            "text/plain": [
              "<Axes: xlabel='battery_power', ylabel='Count'>"
            ]
          },
          "metadata": {},
          "execution_count": 21
        },
        {
          "output_type": "display_data",
          "data": {
            "text/plain": [
              "<Figure size 432x288 with 1 Axes>"
            ],
            "image/png": "[encoded data removed]"
          },
          "metadata": {
            "needs_background": "light"
          }
        }
      ]
    },
    {
      "cell_type": "markdown",
      "source": [
        "##### 1. Why did you pick the specific chart?"
      ],
      "metadata": {
        "id": "K5QZ13OEpz2H"
      }
    },
    {
      "cell_type": "markdown",
      "source": [
        "Answer Here."
      ],
      "metadata": {
        "id": "XESiWehPqBRc"
      }
    },
    {
      "cell_type": "markdown",
      "source": [
        "##### 2. What is/are the insight(s) found from the chart?"
      ],
      "metadata": {
        "id": "lQ7QKXXCp7Bj"
      }
    },
    {
      "cell_type": "markdown",
      "source": [
        "Answer Here"
      ],
      "metadata": {
        "id": "C_j1G7yiqdRP"
      }
    },
    {
      "cell_type": "markdown",
      "source": [
        "##### 3. Will the gained insights help creating a positive business impact? \n",
        "Are there any insights that lead to negative growth? Justify with specific reason."
      ],
      "metadata": {
        "id": "448CDAPjqfQr"
      }
    },
    {
      "cell_type": "markdown",
      "source": [
        "Answer Here"
      ],
      "metadata": {
        "id": "3cspy4FjqxJW"
      }
    },
    {
      "cell_type": "markdown",
      "source": [
        "#### Chart - 2"
      ],
      "metadata": {
        "id": "KSlN3yHqYklG"
      }
    },
    {
      "cell_type": "code",
      "source": [
        "# Chart - 2 visualization code\n",
        "# plot density plot of RAM\n",
        "sns.kdeplot(data=mobile_df, x='ram') \n"
      ],
      "metadata": {
        "id": "R4YgtaqtYklH",
        "colab": {
          "base_uri": "https://localhost:8080/",
          "height": 301
        },
        "outputId": "8356bd8d-3f0a-4fb2-c4a1-740535c8e793"
      },
      "execution_count": 23,
      "outputs": [
        {
          "output_type": "execute_result",
          "data": {
            "text/plain": [
              "<Axes: xlabel='ram', ylabel='Density'>"
            ]
          },
          "metadata": {},
          "execution_count": 23
        },
        {
          "output_type": "display_data",
          "data": {
            "text/plain": [
              "<Figure size 432x288 with 1 Axes>"
            ],
            "image/png": "[encoded data removed]"
          },
          "metadata": {
            "needs_background": "light"
          }
        }
      ]
    },
    {
      "cell_type": "markdown",
      "source": [
        "##### 1. Why did you pick the specific chart?"
      ],
      "metadata": {
        "id": "t6dVpIINYklI"
      }
    },
    {
      "cell_type": "markdown",
      "source": [
        "Answer Here."
      ],
      "metadata": {
        "id": "5aaW0BYyYklI"
      }
    },
    {
      "cell_type": "markdown",
      "source": [
        "##### 2. What is/are the insight(s) found from the chart?"
      ],
      "metadata": {
        "id": "ijmpgYnKYklI"
      }
    },
    {
      "cell_type": "markdown",
      "source": [
        "Answer Here"
      ],
      "metadata": {
        "id": "PSx9atu2YklI"
      }
    },
    {
      "cell_type": "markdown",
      "source": [
        "##### 3. Will the gained insights help creating a positive business impact? \n",
        "Are there any insights that lead to negative growth? Justify with specific reason."
      ],
      "metadata": {
        "id": "-JiQyfWJYklI"
      }
    },
    {
      "cell_type": "markdown",
      "source": [
        "Answer Here"
      ],
      "metadata": {
        "id": "BcBbebzrYklV"
      }
    },
    {
      "cell_type": "markdown",
      "source": [
        "#### Chart - 3"
      ],
      "metadata": {
        "id": "EM7whBJCYoAo"
      }
    },
    {
      "cell_type": "code",
      "source": [
        "# Chart - 3 visualization code\n",
        " # plot box plot of screen size\n",
        "sns.boxplot(data=mobile_df, y='px_height')"
      ],
      "metadata": {
        "id": "t6GMdE67YoAp",
        "colab": {
          "base_uri": "https://localhost:8080/",
          "height": 270
        },
        "outputId": "5140fa60-f7be-4dbc-9562-5ec73d7209e2"
      },
      "execution_count": 24,
      "outputs": [
        {
          "output_type": "execute_result",
          "data": {
            "text/plain": [
              "<Axes: ylabel='px_height'>"
            ]
          },
          "metadata": {},
          "execution_count": 24
        },
        {
          "output_type": "display_data",
          "data": {
            "text/plain": [
              "<Figure size 432x288 with 1 Axes>"
            ],
            "image/png": "[encoded data removed]"
          },
          "metadata": {
            "needs_background": "light"
          }
        }
      ]
    },
    {
      "cell_type": "markdown",
      "source": [
        "##### 1. Why did you pick the specific chart?"
      ],
      "metadata": {
        "id": "fge-S5ZAYoAp"
      }
    },
    {
      "cell_type": "markdown",
      "source": [
        "Answer Here."
      ],
      "metadata": {
        "id": "5dBItgRVYoAp"
      }
    },
    {
      "cell_type": "markdown",
      "source": [
        "##### 2. What is/are the insight(s) found from the chart?"
      ],
      "metadata": {
        "id": "85gYPyotYoAp"
      }
    },
    {
      "cell_type": "markdown",
      "source": [
        "Answer Here"
      ],
      "metadata": {
        "id": "4jstXR6OYoAp"
      }
    },
    {
      "cell_type": "markdown",
      "source": [
        "##### 3. Will the gained insights help creating a positive business impact? \n",
        "Are there any insights that lead to negative growth? Justify with specific reason."
      ],
      "metadata": {
        "id": "RoGjAbkUYoAp"
      }
    },
    {
      "cell_type": "markdown",
      "source": [
        "Answer Here"
      ],
      "metadata": {
        "id": "zfJ8IqMcYoAp"
      }
    },
    {
      "cell_type": "markdown",
      "source": [
        "#### Chart - 4"
      ],
      "metadata": {
        "id": "4Of9eVA-YrdM"
      }
    },
    {
      "cell_type": "code",
      "source": [
        "# Chart - 4 visualization code\n",
        "# plot violin plot of front camera megapixels\n",
        "sns.violinplot(data=mobile_df, x='fc') \n"
      ],
      "metadata": {
        "id": "irlUoxc8YrdO",
        "colab": {
          "base_uri": "https://localhost:8080/",
          "height": 297
        },
        "outputId": "36dd5a05-6d6f-4f6d-b5dd-c2eb31909f62"
      },
      "execution_count": 27,
      "outputs": [
        {
          "output_type": "execute_result",
          "data": {
            "text/plain": [
              "<Axes: xlabel='fc'>"
            ]
          },
          "metadata": {},
          "execution_count": 27
        },
        {
          "output_type": "display_data",
          "data": {
            "text/plain": [
              "<Figure size 432x288 with 1 Axes>"
            ],
            "image/png": "[encoded data removed]"
          },
          "metadata": {
            "needs_background": "light"
          }
        }
      ]
    },
    {
      "cell_type": "markdown",
      "source": [
        "##### 1. Why did you pick the specific chart?"
      ],
      "metadata": {
        "id": "iky9q4vBYrdO"
      }
    },
    {
      "cell_type": "markdown",
      "source": [
        "Answer Here."
      ],
      "metadata": {
        "id": "aJRCwT6DYrdO"
      }
    },
    {
      "cell_type": "markdown",
      "source": [
        "##### 2. What is/are the insight(s) found from the chart?"
      ],
      "metadata": {
        "id": "F6T5p64dYrdO"
      }
    },
    {
      "cell_type": "markdown",
      "source": [
        "Answer Here"
      ],
      "metadata": {
        "id": "Xx8WAJvtYrdO"
      }
    },
    {
      "cell_type": "markdown",
      "source": [
        "##### 3. Will the gained insights help creating a positive business impact? \n",
        "Are there any insights that lead to negative growth? Justify with specific reason."
      ],
      "metadata": {
        "id": "y-Ehk30pYrdP"
      }
    },
    {
      "cell_type": "markdown",
      "source": [
        "Answer Here"
      ],
      "metadata": {
        "id": "jLNxxz7MYrdP"
      }
    },
    {
      "cell_type": "markdown",
      "source": [
        "#### Chart - 5"
      ],
      "metadata": {
        "id": "bamQiAODYuh1"
      }
    },
    {
      "cell_type": "code",
      "source": [
        "# Chart - 5 visualization code\n",
        " # plot swarm plot of internal memory\n",
        "sns.swarmplot(data=mobile_df, x='int_memory')\n"
      ],
      "metadata": {
        "id": "TIJwrbroYuh3",
        "colab": {
          "base_uri": "https://localhost:8080/",
          "height": 298
        },
        "outputId": "ea8b5c97-565f-4479-f55c-d994d6029f92"
      },
      "execution_count": 28,
      "outputs": [
        {
          "output_type": "execute_result",
          "data": {
            "text/plain": [
              "<Axes: xlabel='int_memory'>"
            ]
          },
          "metadata": {},
          "execution_count": 28
        },
        {
          "output_type": "display_data",
          "data": {
            "text/plain": [
              "<Figure size 432x288 with 1 Axes>"
            ],
            "image/png": "[encoded data removed]"
          },
          "metadata": {
            "needs_background": "light"
          }
        }
      ]
    },
    {
      "cell_type": "markdown",
      "source": [
        "##### 1. Why did you pick the specific chart?"
      ],
      "metadata": {
        "id": "QHF8YVU7Yuh3"
      }
    },
    {
      "cell_type": "markdown",
      "source": [
        "Answer Here."
      ],
      "metadata": {
        "id": "dcxuIMRPYuh3"
      }
    },
    {
      "cell_type": "markdown",
      "source": [
        "##### 2. What is/are the insight(s) found from the chart?"
      ],
      "metadata": {
        "id": "GwzvFGzlYuh3"
      }
    },
    {
      "cell_type": "markdown",
      "source": [
        "Answer Here"
      ],
      "metadata": {
        "id": "uyqkiB8YYuh3"
      }
    },
    {
      "cell_type": "markdown",
      "source": [
        "##### 3. Will the gained insights help creating a positive business impact? \n",
        "Are there any insights that lead to negative growth? Justify with specific reason."
      ],
      "metadata": {
        "id": "qYpmQ266Yuh3"
      }
    },
    {
      "cell_type": "markdown",
      "source": [
        "Answer Here"
      ],
      "metadata": {
        "id": "_WtzZ_hCYuh4"
      }
    },
    {
      "cell_type": "markdown",
      "source": [
        "#### Chart - 6"
      ],
      "metadata": {
        "id": "OH-pJp9IphqM"
      }
    },
    {
      "cell_type": "code",
      "source": [
        "# Chart - 6 visualization code\n",
        " # plot scatter plot of battery power vs price range\n",
        "sns.scatterplot(data=mobile_df, x='battery_power', y='price_range')\n"
      ],
      "metadata": {
        "id": "kuRf4wtuphqN",
        "colab": {
          "base_uri": "https://localhost:8080/",
          "height": 298
        },
        "outputId": "5d82e8ba-cc9e-4f6d-d085-05413b5d7914"
      },
      "execution_count": 29,
      "outputs": [
        {
          "output_type": "execute_result",
          "data": {
            "text/plain": [
              "<Axes: xlabel='battery_power', ylabel='price_range'>"
            ]
          },
          "metadata": {},
          "execution_count": 29
        },
        {
          "output_type": "display_data",
          "data": {
            "text/plain": [
              "<Figure size 432x288 with 1 Axes>"
            ],
            "image/png": "[encoded data removed]"
          },
          "metadata": {
            "needs_background": "light"
          }
        }
      ]
    },
    {
      "cell_type": "markdown",
      "source": [
        "##### 1. Why did you pick the specific chart?"
      ],
      "metadata": {
        "id": "bbFf2-_FphqN"
      }
    },
    {
      "cell_type": "markdown",
      "source": [
        "Answer Here."
      ],
      "metadata": {
        "id": "loh7H2nzphqN"
      }
    },
    {
      "cell_type": "markdown",
      "source": [
        "##### 2. What is/are the insight(s) found from the chart?"
      ],
      "metadata": {
        "id": "_ouA3fa0phqN"
      }
    },
    {
      "cell_type": "markdown",
      "source": [
        "Answer Here"
      ],
      "metadata": {
        "id": "VECbqPI7phqN"
      }
    },
    {
      "cell_type": "markdown",
      "source": [
        "##### 3. Will the gained insights help creating a positive business impact? \n",
        "Are there any insights that lead to negative growth? Justify with specific reason."
      ],
      "metadata": {
        "id": "Seke61FWphqN"
      }
    },
    {
      "cell_type": "markdown",
      "source": [
        "Answer Here"
      ],
      "metadata": {
        "id": "DW4_bGpfphqN"
      }
    },
    {
      "cell_type": "markdown",
      "source": [
        "#### Chart - 7"
      ],
      "metadata": {
        "id": "PIIx-8_IphqN"
      }
    },
    {
      "cell_type": "code",
      "source": [
        "# Chart - 7 visualization code\n",
        "sns.jointplot(data=mobile_df, x='ram', y='int_memory', kind='hex') # plot hexbin plot of RAM vs. internal memory\n"
      ],
      "metadata": {
        "id": "lqAIGUfyphqO",
        "colab": {
          "base_uri": "https://localhost:8080/",
          "height": 459
        },
        "outputId": "5e9c03dc-9e26-4d55-b9ed-a7667793a563"
      },
      "execution_count": 30,
      "outputs": [
        {
          "output_type": "execute_result",
          "data": {
            "text/plain": [
              "<seaborn.axisgrid.JointGrid at 0x7f2d1956eca0>"
            ]
          },
          "metadata": {},
          "execution_count": 30
        },
        {
          "output_type": "display_data",
          "data": {
            "text/plain": [
              "<Figure size 432x432 with 3 Axes>"
            ],
            "image/png": "[encoded data removed]"
          },
          "metadata": {
            "needs_background": "light"
          }
        }
      ]
    },
    {
      "cell_type": "markdown",
      "source": [
        "##### 1. Why did you pick the specific chart?"
      ],
      "metadata": {
        "id": "t27r6nlMphqO"
      }
    },
    {
      "cell_type": "markdown",
      "source": [
        "Answer Here."
      ],
      "metadata": {
        "id": "iv6ro40sphqO"
      }
    },
    {
      "cell_type": "markdown",
      "source": [
        "##### 2. What is/are the insight(s) found from the chart?"
      ],
      "metadata": {
        "id": "r2jJGEOYphqO"
      }
    },
    {
      "cell_type": "markdown",
      "source": [
        "Answer Here"
      ],
      "metadata": {
        "id": "Po6ZPi4hphqO"
      }
    },
    {
      "cell_type": "markdown",
      "source": [
        "##### 3. Will the gained insights help creating a positive business impact? \n",
        "Are there any insights that lead to negative growth? Justify with specific reason."
      ],
      "metadata": {
        "id": "b0JNsNcRphqO"
      }
    },
    {
      "cell_type": "markdown",
      "source": [
        "Answer Here"
      ],
      "metadata": {
        "id": "xvSq8iUTphqO"
      }
    },
    {
      "cell_type": "markdown",
      "source": [
        "#### Chart - 8"
      ],
      "metadata": {
        "id": "BZR9WyysphqO"
      }
    },
    {
      "cell_type": "code",
      "source": [
        "# Chart - 8 visualization code"
      ],
      "metadata": {
        "id": "TdPTWpAVphqO"
      },
      "execution_count": null,
      "outputs": []
    },
    {
      "cell_type": "markdown",
      "source": [
        "##### 1. Why did you pick the specific chart?"
      ],
      "metadata": {
        "id": "jj7wYXLtphqO"
      }
    },
    {
      "cell_type": "markdown",
      "source": [
        "Answer Here."
      ],
      "metadata": {
        "id": "Ob8u6rCTphqO"
      }
    },
    {
      "cell_type": "markdown",
      "source": [
        "##### 2. What is/are the insight(s) found from the chart?"
      ],
      "metadata": {
        "id": "eZrbJ2SmphqO"
      }
    },
    {
      "cell_type": "markdown",
      "source": [
        "Answer Here"
      ],
      "metadata": {
        "id": "mZtgC_hjphqO"
      }
    },
    {
      "cell_type": "markdown",
      "source": [
        "##### 3. Will the gained insights help creating a positive business impact? \n",
        "Are there any insights that lead to negative growth? Justify with specific reason."
      ],
      "metadata": {
        "id": "rFu4xreNphqO"
      }
    },
    {
      "cell_type": "markdown",
      "source": [
        "Answer Here"
      ],
      "metadata": {
        "id": "ey_0qi68phqO"
      }
    },
    {
      "cell_type": "markdown",
      "source": [
        "#### Chart - 9"
      ],
      "metadata": {
        "id": "YJ55k-q6phqO"
      }
    },
    {
      "cell_type": "code",
      "source": [
        "# Chart - 9 visualization code"
      ],
      "metadata": {
        "id": "B2aS4O1ophqO"
      },
      "execution_count": null,
      "outputs": []
    },
    {
      "cell_type": "markdown",
      "source": [
        "##### 1. Why did you pick the specific chart?"
      ],
      "metadata": {
        "id": "gCFgpxoyphqP"
      }
    },
    {
      "cell_type": "markdown",
      "source": [
        "Answer Here."
      ],
      "metadata": {
        "id": "TVxDimi2phqP"
      }
    },
    {
      "cell_type": "markdown",
      "source": [
        "##### 2. What is/are the insight(s) found from the chart?"
      ],
      "metadata": {
        "id": "OVtJsKN_phqQ"
      }
    },
    {
      "cell_type": "markdown",
      "source": [
        "Answer Here"
      ],
      "metadata": {
        "id": "ngGi97qjphqQ"
      }
    },
    {
      "cell_type": "markdown",
      "source": [
        "##### 3. Will the gained insights help creating a positive business impact? \n",
        "Are there any insights that lead to negative growth? Justify with specific reason."
      ],
      "metadata": {
        "id": "lssrdh5qphqQ"
      }
    },
    {
      "cell_type": "markdown",
      "source": [
        "Answer Here"
      ],
      "metadata": {
        "id": "tBpY5ekJphqQ"
      }
    },
    {
      "cell_type": "markdown",
      "source": [
        "#### Chart - 10"
      ],
      "metadata": {
        "id": "U2RJ9gkRphqQ"
      }
    },
    {
      "cell_type": "code",
      "source": [
        "# Chart - 10 visualization code"
      ],
      "metadata": {
        "id": "GM7a4YP4phqQ"
      },
      "execution_count": null,
      "outputs": []
    },
    {
      "cell_type": "markdown",
      "source": [
        "##### 1. Why did you pick the specific chart?"
      ],
      "metadata": {
        "id": "1M8mcRywphqQ"
      }
    },
    {
      "cell_type": "markdown",
      "source": [
        "Answer Here."
      ],
      "metadata": {
        "id": "8agQvks0phqQ"
      }
    },
    {
      "cell_type": "markdown",
      "source": [
        "##### 2. What is/are the insight(s) found from the chart?"
      ],
      "metadata": {
        "id": "tgIPom80phqQ"
      }
    },
    {
      "cell_type": "markdown",
      "source": [
        "Answer Here"
      ],
      "metadata": {
        "id": "Qp13pnNzphqQ"
      }
    },
    {
      "cell_type": "markdown",
      "source": [
        "##### 3. Will the gained insights help creating a positive business impact? \n",
        "Are there any insights that lead to negative growth? Justify with specific reason."
      ],
      "metadata": {
        "id": "JMzcOPDDphqR"
      }
    },
    {
      "cell_type": "markdown",
      "source": [
        "Answer Here"
      ],
      "metadata": {
        "id": "R4Ka1PC2phqR"
      }
    },
    {
      "cell_type": "markdown",
      "source": [
        "#### Chart - 11"
      ],
      "metadata": {
        "id": "x-EpHcCOp1ci"
      }
    },
    {
      "cell_type": "code",
      "source": [
        "# Chart - 11 visualization code"
      ],
      "metadata": {
        "id": "mAQTIvtqp1cj"
      },
      "execution_count": null,
      "outputs": []
    },
    {
      "cell_type": "markdown",
      "source": [
        "##### 1. Why did you pick the specific chart?"
      ],
      "metadata": {
        "id": "X_VqEhTip1ck"
      }
    },
    {
      "cell_type": "markdown",
      "source": [
        "Answer Here."
      ],
      "metadata": {
        "id": "-vsMzt_np1ck"
      }
    },
    {
      "cell_type": "markdown",
      "source": [
        "##### 2. What is/are the insight(s) found from the chart?"
      ],
      "metadata": {
        "id": "8zGJKyg5p1ck"
      }
    },
    {
      "cell_type": "markdown",
      "source": [
        "Answer Here"
      ],
      "metadata": {
        "id": "ZYdMsrqVp1ck"
      }
    },
    {
      "cell_type": "markdown",
      "source": [
        "##### 3. Will the gained insights help creating a positive business impact? \n",
        "Are there any insights that lead to negative growth? Justify with specific reason."
      ],
      "metadata": {
        "id": "PVzmfK_Ep1ck"
      }
    },
    {
      "cell_type": "markdown",
      "source": [
        "Answer Here"
      ],
      "metadata": {
        "id": "druuKYZpp1ck"
      }
    },
    {
      "cell_type": "markdown",
      "source": [
        "#### Chart - 12"
      ],
      "metadata": {
        "id": "n3dbpmDWp1ck"
      }
    },
    {
      "cell_type": "code",
      "source": [
        "# Chart - 12 visualization code"
      ],
      "metadata": {
        "id": "bwevp1tKp1ck"
      },
      "execution_count": null,
      "outputs": []
    },
    {
      "cell_type": "markdown",
      "source": [
        "##### 1. Why did you pick the specific chart?"
      ],
      "metadata": {
        "id": "ylSl6qgtp1ck"
      }
    },
    {
      "cell_type": "markdown",
      "source": [
        "Answer Here."
      ],
      "metadata": {
        "id": "m2xqNkiQp1ck"
      }
    },
    {
      "cell_type": "markdown",
      "source": [
        "##### 2. What is/are the insight(s) found from the chart?"
      ],
      "metadata": {
        "id": "ZWILFDl5p1ck"
      }
    },
    {
      "cell_type": "markdown",
      "source": [
        "Answer Here"
      ],
      "metadata": {
        "id": "x-lUsV2mp1ck"
      }
    },
    {
      "cell_type": "markdown",
      "source": [
        "##### 3. Will the gained insights help creating a positive business impact? \n",
        "Are there any insights that lead to negative growth? Justify with specific reason."
      ],
      "metadata": {
        "id": "M7G43BXep1ck"
      }
    },
    {
      "cell_type": "markdown",
      "source": [
        "Answer Here"
      ],
      "metadata": {
        "id": "5wwDJXsLp1cl"
      }
    },
    {
      "cell_type": "markdown",
      "source": [
        "#### Chart - 13"
      ],
      "metadata": {
        "id": "Ag9LCva-p1cl"
      }
    },
    {
      "cell_type": "code",
      "source": [
        "# Chart - 13 visualization code"
      ],
      "metadata": {
        "id": "EUfxeq9-p1cl"
      },
      "execution_count": null,
      "outputs": []
    },
    {
      "cell_type": "markdown",
      "source": [
        "##### 1. Why did you pick the specific chart?"
      ],
      "metadata": {
        "id": "E6MkPsBcp1cl"
      }
    },
    {
      "cell_type": "markdown",
      "source": [
        "Answer Here."
      ],
      "metadata": {
        "id": "V22bRsFWp1cl"
      }
    },
    {
      "cell_type": "markdown",
      "source": [
        "##### 2. What is/are the insight(s) found from the chart?"
      ],
      "metadata": {
        "id": "2cELzS2fp1cl"
      }
    },
    {
      "cell_type": "markdown",
      "source": [
        "Answer Here"
      ],
      "metadata": {
        "id": "ozQPc2_Ip1cl"
      }
    },
    {
      "cell_type": "markdown",
      "source": [
        "##### 3. Will the gained insights help creating a positive business impact? \n",
        "Are there any insights that lead to negative growth? Justify with specific reason."
      ],
      "metadata": {
        "id": "3MPXvC8up1cl"
      }
    },
    {
      "cell_type": "markdown",
      "source": [
        "Answer Here"
      ],
      "metadata": {
        "id": "GL8l1tdLp1cl"
      }
    },
    {
      "cell_type": "markdown",
      "source": [
        "#### Chart - 14 - Correlation Heatmap"
      ],
      "metadata": {
        "id": "NC_X3p0fY2L0"
      }
    },
    {
      "cell_type": "code",
      "source": [
        "# Correlation Heatmap visualization code"
      ],
      "metadata": {
        "id": "xyC9zolEZNRQ"
      },
      "execution_count": null,
      "outputs": []
    },
    {
      "cell_type": "markdown",
      "source": [
        "##### 1. Why did you pick the specific chart?"
      ],
      "metadata": {
        "id": "UV0SzAkaZNRQ"
      }
    },
    {
      "cell_type": "markdown",
      "source": [
        "Answer Here."
      ],
      "metadata": {
        "id": "DVPuT8LYZNRQ"
      }
    },
    {
      "cell_type": "markdown",
      "source": [
        "##### 2. What is/are the insight(s) found from the chart?"
      ],
      "metadata": {
        "id": "YPEH6qLeZNRQ"
      }
    },
    {
      "cell_type": "markdown",
      "source": [
        "Answer Here"
      ],
      "metadata": {
        "id": "bfSqtnDqZNRR"
      }
    },
    {
      "cell_type": "markdown",
      "source": [
        "#### Chart - 15 - Pair Plot "
      ],
      "metadata": {
        "id": "q29F0dvdveiT"
      }
    },
    {
      "cell_type": "code",
      "source": [
        "# Pair Plot visualization code"
      ],
      "metadata": {
        "id": "o58-TEIhveiU"
      },
      "execution_count": null,
      "outputs": []
    },
    {
      "cell_type": "markdown",
      "source": [
        "##### 1. Why did you pick the specific chart?"
      ],
      "metadata": {
        "id": "EXh0U9oCveiU"
      }
    },
    {
      "cell_type": "markdown",
      "source": [
        "Answer Here."
      ],
      "metadata": {
        "id": "eMmPjTByveiU"
      }
    },
    {
      "cell_type": "markdown",
      "source": [
        "##### 2. What is/are the insight(s) found from the chart?"
      ],
      "metadata": {
        "id": "22aHeOlLveiV"
      }
    },
    {
      "cell_type": "markdown",
      "source": [
        "Answer Here"
      ],
      "metadata": {
        "id": "uPQ8RGwHveiV"
      }
    },
    {
      "cell_type": "markdown",
      "source": [
        "## ***5. Hypothesis Testing***"
      ],
      "metadata": {
        "id": "g-ATYxFrGrvw"
      }
    },
    {
      "cell_type": "markdown",
      "source": [
        "### Based on your chart experiments, define three hypothetical statements from the dataset. In the next three questions, perform hypothesis testing to obtain final conclusion about the statements through your code and statistical testing."
      ],
      "metadata": {
        "id": "Yfr_Vlr8HBkt"
      }
    },
    {
      "cell_type": "markdown",
      "source": [
        "Answer Here."
      ],
      "metadata": {
        "id": "-7MS06SUHkB-"
      }
    },
    {
      "cell_type": "markdown",
      "source": [
        "### Hypothetical Statement - 1"
      ],
      "metadata": {
        "id": "8yEUt7NnHlrM"
      }
    },
    {
      "cell_type": "markdown",
      "source": [
        "#### 1. State Your research hypothesis as a null hypothesis and alternate hypothesis."
      ],
      "metadata": {
        "id": "tEA2Xm5dHt1r"
      }
    },
    {
      "cell_type": "markdown",
      "source": [
        "Answer Here."
      ],
      "metadata": {
        "id": "HI9ZP0laH0D-"
      }
    },
    {
      "cell_type": "markdown",
      "source": [
        "#### 2. Perform an appropriate statistical test."
      ],
      "metadata": {
        "id": "I79__PHVH19G"
      }
    },
    {
      "cell_type": "code",
      "source": [
        "# Perform Statistical Test to obtain P-Value"
      ],
      "metadata": {
        "id": "oZrfquKtyian"
      },
      "execution_count": null,
      "outputs": []
    },
    {
      "cell_type": "markdown",
      "source": [
        "##### Which statistical test have you done to obtain P-Value?"
      ],
      "metadata": {
        "id": "Ou-I18pAyIpj"
      }
    },
    {
      "cell_type": "markdown",
      "source": [
        "Answer Here."
      ],
      "metadata": {
        "id": "s2U0kk00ygSB"
      }
    },
    {
      "cell_type": "markdown",
      "source": [
        "##### Why did you choose the specific statistical test?"
      ],
      "metadata": {
        "id": "fF3858GYyt-u"
      }
    },
    {
      "cell_type": "markdown",
      "source": [
        "Answer Here."
      ],
      "metadata": {
        "id": "HO4K0gP5y3B4"
      }
    },
    {
      "cell_type": "markdown",
      "source": [
        "### Hypothetical Statement - 2"
      ],
      "metadata": {
        "id": "4_0_7-oCpUZd"
      }
    },
    {
      "cell_type": "markdown",
      "source": [
        "#### 1. State Your research hypothesis as a null hypothesis and alternate hypothesis."
      ],
      "metadata": {
        "id": "hwyV_J3ipUZe"
      }
    },
    {
      "cell_type": "markdown",
      "source": [
        "Answer Here."
      ],
      "metadata": {
        "id": "FnpLGJ-4pUZe"
      }
    },
    {
      "cell_type": "markdown",
      "source": [
        "#### 2. Perform an appropriate statistical test."
      ],
      "metadata": {
        "id": "3yB-zSqbpUZe"
      }
    },
    {
      "cell_type": "code",
      "source": [
        "# Perform Statistical Test to obtain P-Value"
      ],
      "metadata": {
        "id": "sWxdNTXNpUZe"
      },
      "execution_count": null,
      "outputs": []
    },
    {
      "cell_type": "markdown",
      "source": [
        "##### Which statistical test have you done to obtain P-Value?"
      ],
      "metadata": {
        "id": "dEUvejAfpUZe"
      }
    },
    {
      "cell_type": "markdown",
      "source": [
        "Answer Here."
      ],
      "metadata": {
        "id": "oLDrPz7HpUZf"
      }
    },
    {
      "cell_type": "markdown",
      "source": [
        "##### Why did you choose the specific statistical test?"
      ],
      "metadata": {
        "id": "Fd15vwWVpUZf"
      }
    },
    {
      "cell_type": "markdown",
      "source": [
        "Answer Here."
      ],
      "metadata": {
        "id": "4xOGYyiBpUZf"
      }
    },
    {
      "cell_type": "markdown",
      "source": [
        "### Hypothetical Statement - 3"
      ],
      "metadata": {
        "id": "bn_IUdTipZyH"
      }
    },
    {
      "cell_type": "markdown",
      "source": [
        "#### 1. State Your research hypothesis as a null hypothesis and alternate hypothesis."
      ],
      "metadata": {
        "id": "49K5P_iCpZyH"
      }
    },
    {
      "cell_type": "markdown",
      "source": [
        "Answer Here."
      ],
      "metadata": {
        "id": "7gWI5rT9pZyH"
      }
    },
    {
      "cell_type": "markdown",
      "source": [
        "#### 2. Perform an appropriate statistical test."
      ],
      "metadata": {
        "id": "Nff-vKELpZyI"
      }
    },
    {
      "cell_type": "code",
      "source": [
        "# Perform Statistical Test to obtain P-Value"
      ],
      "metadata": {
        "id": "s6AnJQjtpZyI"
      },
      "execution_count": null,
      "outputs": []
    },
    {
      "cell_type": "markdown",
      "source": [
        "##### Which statistical test have you done to obtain P-Value?"
      ],
      "metadata": {
        "id": "kLW572S8pZyI"
      }
    },
    {
      "cell_type": "markdown",
      "source": [
        "Answer Here."
      ],
      "metadata": {
        "id": "ytWJ8v15pZyI"
      }
    },
    {
      "cell_type": "markdown",
      "source": [
        "##### Why did you choose the specific statistical test?"
      ],
      "metadata": {
        "id": "dWbDXHzopZyI"
      }
    },
    {
      "cell_type": "markdown",
      "source": [
        "Answer Here."
      ],
      "metadata": {
        "id": "M99G98V6pZyI"
      }
    },
    {
      "cell_type": "markdown",
      "source": [
        "## ***6. Feature Engineering & Data Pre-processing***"
      ],
      "metadata": {
        "id": "yLjJCtPM0KBk"
      }
    },
    {
      "cell_type": "markdown",
      "source": [
        "### 1. Handling Missing Values"
      ],
      "metadata": {
        "id": "xiyOF9F70UgQ"
      }
    },
    {
      "cell_type": "code",
      "source": [
        "# Handling Missing Values & Missing Value Imputation"
      ],
      "metadata": {
        "id": "iRsAHk1K0fpS"
      },
      "execution_count": null,
      "outputs": []
    },
    {
      "cell_type": "markdown",
      "source": [
        "#### What all missing value imputation techniques have you used and why did you use those techniques?"
      ],
      "metadata": {
        "id": "7wuGOrhz0itI"
      }
    },
    {
      "cell_type": "markdown",
      "source": [
        "Answer Here."
      ],
      "metadata": {
        "id": "1ixusLtI0pqI"
      }
    },
    {
      "cell_type": "markdown",
      "source": [
        "### 2. Handling Outliers"
      ],
      "metadata": {
        "id": "id1riN9m0vUs"
      }
    },
    {
      "cell_type": "code",
      "source": [
        "# Handling Outliers & Outlier treatments"
      ],
      "metadata": {
        "id": "M6w2CzZf04JK"
      },
      "execution_count": null,
      "outputs": []
    },
    {
      "cell_type": "markdown",
      "source": [
        "##### What all outlier treatment techniques have you used and why did you use those techniques?"
      ],
      "metadata": {
        "id": "578E2V7j08f6"
      }
    },
    {
      "cell_type": "markdown",
      "source": [
        "Answer Here."
      ],
      "metadata": {
        "id": "uGZz5OrT1HH-"
      }
    },
    {
      "cell_type": "markdown",
      "source": [
        "### 3. Categorical Encoding"
      ],
      "metadata": {
        "id": "89xtkJwZ18nB"
      }
    },
    {
      "cell_type": "code",
      "source": [
        "# Encode your categorical columns"
      ],
      "metadata": {
        "id": "21JmIYMG2hEo"
      },
      "execution_count": null,
      "outputs": []
    },
    {
      "cell_type": "markdown",
      "source": [
        "#### What all categorical encoding techniques have you used & why did you use those techniques?"
      ],
      "metadata": {
        "id": "67NQN5KX2AMe"
      }
    },
    {
      "cell_type": "markdown",
      "source": [
        "Answer Here."
      ],
      "metadata": {
        "id": "UDaue5h32n_G"
      }
    },
    {
      "cell_type": "markdown",
      "source": [
        "### 4. Textual Data Preprocessing \n",
        "(It's mandatory for textual dataset i.e., NLP, Sentiment Analysis, Text Clustering etc.)"
      ],
      "metadata": {
        "id": "Iwf50b-R2tYG"
      }
    },
    {
      "cell_type": "markdown",
      "source": [
        "#### 1. Expand Contraction"
      ],
      "metadata": {
        "id": "GMQiZwjn3iu7"
      }
    },
    {
      "cell_type": "code",
      "source": [
        "# Expand Contraction"
      ],
      "metadata": {
        "id": "PTouz10C3oNN"
      },
      "execution_count": null,
      "outputs": []
    },
    {
      "cell_type": "markdown",
      "source": [
        "#### 2. Lower Casing"
      ],
      "metadata": {
        "id": "WVIkgGqN3qsr"
      }
    },
    {
      "cell_type": "code",
      "source": [
        "# Lower Casing"
      ],
      "metadata": {
        "id": "88JnJ1jN3w7j"
      },
      "execution_count": null,
      "outputs": []
    },
    {
      "cell_type": "markdown",
      "source": [
        "#### 3. Removing Punctuations"
      ],
      "metadata": {
        "id": "XkPnILGE3zoT"
      }
    },
    {
      "cell_type": "code",
      "source": [
        "# Remove Punctuations"
      ],
      "metadata": {
        "id": "vqbBqNaA33c0"
      },
      "execution_count": null,
      "outputs": []
    },
    {
      "cell_type": "markdown",
      "source": [
        "#### 4. Removing URLs & Removing words and digits contain digits."
      ],
      "metadata": {
        "id": "Hlsf0x5436Go"
      }
    },
    {
      "cell_type": "code",
      "source": [
        "# Remove URLs & Remove words and digits contain digits"
      ],
      "metadata": {
        "id": "2sxKgKxu4Ip3"
      },
      "execution_count": null,
      "outputs": []
    },
    {
      "cell_type": "markdown",
      "source": [
        "#### 5. Removing Stopwords & Removing White spaces"
      ],
      "metadata": {
        "id": "mT9DMSJo4nBL"
      }
    },
    {
      "cell_type": "code",
      "source": [
        "# Remove Stopwords"
      ],
      "metadata": {
        "id": "T2LSJh154s8W"
      },
      "execution_count": null,
      "outputs": []
    },
    {
      "cell_type": "code",
      "source": [
        "# Remove White spaces"
      ],
      "metadata": {
        "id": "EgLJGffy4vm0"
      },
      "execution_count": null,
      "outputs": []
    },
    {
      "cell_type": "markdown",
      "source": [
        "#### 6. Rephrase Text"
      ],
      "metadata": {
        "id": "c49ITxTc407N"
      }
    },
    {
      "cell_type": "code",
      "source": [
        "# Rephrase Text"
      ],
      "metadata": {
        "id": "foqY80Qu48N2"
      },
      "execution_count": null,
      "outputs": []
    },
    {
      "cell_type": "markdown",
      "source": [
        "#### 7. Tokenization"
      ],
      "metadata": {
        "id": "OeJFEK0N496M"
      }
    },
    {
      "cell_type": "code",
      "source": [
        "# Tokenization"
      ],
      "metadata": {
        "id": "ijx1rUOS5CUU"
      },
      "execution_count": null,
      "outputs": []
    },
    {
      "cell_type": "markdown",
      "source": [
        "#### 8. Text Normalization"
      ],
      "metadata": {
        "id": "9ExmJH0g5HBk"
      }
    },
    {
      "cell_type": "code",
      "source": [
        "# Normalizing Text (i.e., Stemming, Lemmatization etc.)"
      ],
      "metadata": {
        "id": "AIJ1a-Zc5PY8"
      },
      "execution_count": null,
      "outputs": []
    },
    {
      "cell_type": "markdown",
      "source": [
        "##### Which text normalization technique have you used and why?"
      ],
      "metadata": {
        "id": "cJNqERVU536h"
      }
    },
    {
      "cell_type": "markdown",
      "source": [
        "Answer Here."
      ],
      "metadata": {
        "id": "Z9jKVxE06BC1"
      }
    },
    {
      "cell_type": "markdown",
      "source": [
        "#### 9. Part of speech tagging"
      ],
      "metadata": {
        "id": "k5UmGsbsOxih"
      }
    },
    {
      "cell_type": "code",
      "source": [
        "# POS Taging"
      ],
      "metadata": {
        "id": "btT3ZJBAO6Ik"
      },
      "execution_count": null,
      "outputs": []
    },
    {
      "cell_type": "markdown",
      "source": [
        "#### 10. Text Vectorization"
      ],
      "metadata": {
        "id": "T0VqWOYE6DLQ"
      }
    },
    {
      "cell_type": "code",
      "source": [
        "# Vectorizing Text"
      ],
      "metadata": {
        "id": "yBRtdhth6JDE"
      },
      "execution_count": null,
      "outputs": []
    },
    {
      "cell_type": "markdown",
      "source": [
        "##### Which text vectorization technique have you used and why?"
      ],
      "metadata": {
        "id": "qBMux9mC6MCf"
      }
    },
    {
      "cell_type": "markdown",
      "source": [
        "Answer Here."
      ],
      "metadata": {
        "id": "su2EnbCh6UKQ"
      }
    },
    {
      "cell_type": "markdown",
      "source": [
        "### 4. Feature Manipulation & Selection"
      ],
      "metadata": {
        "id": "-oLEiFgy-5Pf"
      }
    },
    {
      "cell_type": "markdown",
      "source": [
        "#### 1. Feature Manipulation"
      ],
      "metadata": {
        "id": "C74aWNz2AliB"
      }
    },
    {
      "cell_type": "code",
      "source": [
        "# Manipulate Features to minimize feature correlation and create new features"
      ],
      "metadata": {
        "id": "h1qC4yhBApWC"
      },
      "execution_count": null,
      "outputs": []
    },
    {
      "cell_type": "markdown",
      "source": [
        "#### 2. Feature Selection"
      ],
      "metadata": {
        "id": "2DejudWSA-a0"
      }
    },
    {
      "cell_type": "code",
      "source": [
        "# Select your features wisely to avoid overfitting"
      ],
      "metadata": {
        "id": "YLhe8UmaBCEE"
      },
      "execution_count": null,
      "outputs": []
    },
    {
      "cell_type": "markdown",
      "source": [
        "##### What all feature selection methods have you used  and why?"
      ],
      "metadata": {
        "id": "pEMng2IbBLp7"
      }
    },
    {
      "cell_type": "markdown",
      "source": [
        "Answer Here."
      ],
      "metadata": {
        "id": "rb2Lh6Z8BgGs"
      }
    },
    {
      "cell_type": "markdown",
      "source": [
        "##### Which all features you found important and why?"
      ],
      "metadata": {
        "id": "rAdphbQ9Bhjc"
      }
    },
    {
      "cell_type": "markdown",
      "source": [
        "Answer Here."
      ],
      "metadata": {
        "id": "fGgaEstsBnaf"
      }
    },
    {
      "cell_type": "markdown",
      "source": [
        "### 5. Data Transformation"
      ],
      "metadata": {
        "id": "TNVZ9zx19K6k"
      }
    },
    {
      "cell_type": "markdown",
      "source": [
        "#### Do you think that your data needs to be transformed? If yes, which transformation have you used. Explain Why?"
      ],
      "metadata": {
        "id": "nqoHp30x9hH9"
      }
    },
    {
      "cell_type": "code",
      "source": [
        "# Transform Your data"
      ],
      "metadata": {
        "id": "I6quWQ1T9rtH"
      },
      "execution_count": null,
      "outputs": []
    },
    {
      "cell_type": "markdown",
      "source": [
        "### 6. Data Scaling"
      ],
      "metadata": {
        "id": "rMDnDkt2B6du"
      }
    },
    {
      "cell_type": "code",
      "source": [
        "# Scaling your data"
      ],
      "metadata": {
        "id": "dL9LWpySC6x_"
      },
      "execution_count": null,
      "outputs": []
    },
    {
      "cell_type": "markdown",
      "source": [
        "##### Which method have you used to scale you data and why?"
      ],
      "metadata": {
        "id": "yiiVWRdJDDil"
      }
    },
    {
      "cell_type": "markdown",
      "source": [
        "### 7. Dimesionality Reduction"
      ],
      "metadata": {
        "id": "1UUpS68QDMuG"
      }
    },
    {
      "cell_type": "markdown",
      "source": [
        "##### Do you think that dimensionality reduction is needed? Explain Why?"
      ],
      "metadata": {
        "id": "kexQrXU-DjzY"
      }
    },
    {
      "cell_type": "markdown",
      "source": [
        "Answer Here."
      ],
      "metadata": {
        "id": "GGRlBsSGDtTQ"
      }
    },
    {
      "cell_type": "code",
      "source": [
        "# DImensionality Reduction (If needed)"
      ],
      "metadata": {
        "id": "kQfvxBBHDvCa"
      },
      "execution_count": null,
      "outputs": []
    },
    {
      "cell_type": "markdown",
      "source": [
        "##### Which dimensionality reduction technique have you used and why? (If dimensionality reduction done on dataset.)"
      ],
      "metadata": {
        "id": "T5CmagL3EC8N"
      }
    },
    {
      "cell_type": "markdown",
      "source": [
        "Answer Here."
      ],
      "metadata": {
        "id": "ZKr75IDuEM7t"
      }
    },
    {
      "cell_type": "markdown",
      "source": [
        "### 8. Data Splitting"
      ],
      "metadata": {
        "id": "BhH2vgX9EjGr"
      }
    },
    {
      "cell_type": "code",
      "source": [
        "# Split your data to train and test. Choose Splitting ratio wisely."
      ],
      "metadata": {
        "id": "0CTyd2UwEyNM"
      },
      "execution_count": null,
      "outputs": []
    },
    {
      "cell_type": "markdown",
      "source": [
        "##### What data splitting ratio have you used and why? "
      ],
      "metadata": {
        "id": "qjKvONjwE8ra"
      }
    },
    {
      "cell_type": "markdown",
      "source": [
        "Answer Here."
      ],
      "metadata": {
        "id": "Y2lJ8cobFDb_"
      }
    },
    {
      "cell_type": "markdown",
      "source": [
        "### 9. Handling Imbalanced Dataset"
      ],
      "metadata": {
        "id": "P1XJ9OREExlT"
      }
    },
    {
      "cell_type": "markdown",
      "source": [
        "##### Do you think the dataset is imbalanced? Explain Why."
      ],
      "metadata": {
        "id": "VFOzZv6IFROw"
      }
    },
    {
      "cell_type": "markdown",
      "source": [
        "Answer Here."
      ],
      "metadata": {
        "id": "GeKDIv7pFgcC"
      }
    },
    {
      "cell_type": "code",
      "source": [
        "# Handling Imbalanced Dataset (If needed)"
      ],
      "metadata": {
        "id": "nQsRhhZLFiDs"
      },
      "execution_count": null,
      "outputs": []
    },
    {
      "cell_type": "markdown",
      "source": [
        "##### What technique did you use to handle the imbalance dataset and why? (If needed to be balanced)"
      ],
      "metadata": {
        "id": "TIqpNgepFxVj"
      }
    },
    {
      "cell_type": "markdown",
      "source": [
        "Answer Here."
      ],
      "metadata": {
        "id": "qbet1HwdGDTz"
      }
    },
    {
      "cell_type": "markdown",
      "source": [
        "## ***7. ML Model Implementation***"
      ],
      "metadata": {
        "id": "VfCC591jGiD4"
      }
    },
    {
      "cell_type": "markdown",
      "source": [
        "### ML Model - 1"
      ],
      "metadata": {
        "id": "OB4l2ZhMeS1U"
      }
    },
    {
      "cell_type": "code",
      "source": [
        "# ML Model - 1 Implementation\n",
        "\n",
        "# Fit the Algorithm\n",
        "\n",
        "# Predict on the model"
      ],
      "metadata": {
        "id": "7ebyywQieS1U"
      },
      "execution_count": null,
      "outputs": []
    },
    {
      "cell_type": "markdown",
      "source": [
        "#### 1. Explain the ML Model used and it's performance using Evaluation metric Score Chart."
      ],
      "metadata": {
        "id": "ArJBuiUVfxKd"
      }
    },
    {
      "cell_type": "code",
      "source": [
        "# Visualizing evaluation Metric Score chart"
      ],
      "metadata": {
        "id": "rqD5ZohzfxKe"
      },
      "execution_count": null,
      "outputs": []
    },
    {
      "cell_type": "markdown",
      "source": [
        "#### 2. Cross- Validation & Hyperparameter Tuning"
      ],
      "metadata": {
        "id": "4qY1EAkEfxKe"
      }
    },
    {
      "cell_type": "code",
      "source": [
        "# ML Model - 1 Implementation with hyperparameter optimization techniques (i.e., GridSearch CV, RandomSearch CV, Bayesian Optimization etc.)\n",
        "\n",
        "# Fit the Algorithm\n",
        "\n",
        "# Predict on the model"
      ],
      "metadata": {
        "id": "Dy61ujd6fxKe"
      },
      "execution_count": null,
      "outputs": []
    },
    {
      "cell_type": "markdown",
      "source": [
        "##### Which hyperparameter optimization technique have you used and why?"
      ],
      "metadata": {
        "id": "PiV4Ypx8fxKe"
      }
    },
    {
      "cell_type": "markdown",
      "source": [
        "Answer Here."
      ],
      "metadata": {
        "id": "negyGRa7fxKf"
      }
    },
    {
      "cell_type": "markdown",
      "source": [
        "##### Have you seen any improvement? Note down the improvement with updates Evaluation metric Score Chart."
      ],
      "metadata": {
        "id": "TfvqoZmBfxKf"
      }
    },
    {
      "cell_type": "markdown",
      "source": [
        "Answer Here."
      ],
      "metadata": {
        "id": "OaLui8CcfxKf"
      }
    },
    {
      "cell_type": "markdown",
      "source": [
        "### ML Model - 2"
      ],
      "metadata": {
        "id": "dJ2tPlVmpsJ0"
      }
    },
    {
      "cell_type": "markdown",
      "source": [
        "#### 1. Explain the ML Model used and it's performance using Evaluation metric Score Chart."
      ],
      "metadata": {
        "id": "JWYfwnehpsJ1"
      }
    },
    {
      "cell_type": "code",
      "source": [
        "# Visualizing evaluation Metric Score chart"
      ],
      "metadata": {
        "id": "yEl-hgQWpsJ1"
      },
      "execution_count": null,
      "outputs": []
    },
    {
      "cell_type": "markdown",
      "source": [
        "#### 2. Cross- Validation & Hyperparameter Tuning"
      ],
      "metadata": {
        "id": "-jK_YjpMpsJ2"
      }
    },
    {
      "cell_type": "code",
      "source": [
        "# ML Model - 1 Implementation with hyperparameter optimization techniques (i.e., GridSearch CV, RandomSearch CV, Bayesian Optimization etc.)\n",
        "\n",
        "# Fit the Algorithm\n",
        "\n",
        "# Predict on the model"
      ],
      "metadata": {
        "id": "Dn0EOfS6psJ2"
      },
      "execution_count": null,
      "outputs": []
    },
    {
      "cell_type": "markdown",
      "source": [
        "##### Which hyperparameter optimization technique have you used and why?"
      ],
      "metadata": {
        "id": "HAih1iBOpsJ2"
      }
    },
    {
      "cell_type": "markdown",
      "source": [
        "Answer Here."
      ],
      "metadata": {
        "id": "9kBgjYcdpsJ2"
      }
    },
    {
      "cell_type": "markdown",
      "source": [
        "##### Have you seen any improvement? Note down the improvement with updates Evaluation metric Score Chart."
      ],
      "metadata": {
        "id": "zVGeBEFhpsJ2"
      }
    },
    {
      "cell_type": "markdown",
      "source": [
        "Answer Here."
      ],
      "metadata": {
        "id": "74yRdG6UpsJ3"
      }
    },
    {
      "cell_type": "markdown",
      "source": [
        "#### 3. Explain each evaluation metric's indication towards business and the business impact pf the ML model used."
      ],
      "metadata": {
        "id": "bmKjuQ-FpsJ3"
      }
    },
    {
      "cell_type": "markdown",
      "source": [
        "Answer Here."
      ],
      "metadata": {
        "id": "BDKtOrBQpsJ3"
      }
    },
    {
      "cell_type": "markdown",
      "source": [
        "### ML Model - 3"
      ],
      "metadata": {
        "id": "Fze-IPXLpx6K"
      }
    },
    {
      "cell_type": "code",
      "source": [
        "# ML Model - 3 Implementation\n",
        "\n",
        "# Fit the Algorithm\n",
        "\n",
        "# Predict on the model"
      ],
      "metadata": {
        "id": "FFrSXAtrpx6M"
      },
      "execution_count": null,
      "outputs": []
    },
    {
      "cell_type": "markdown",
      "source": [
        "#### 1. Explain the ML Model used and it's performance using Evaluation metric Score Chart."
      ],
      "metadata": {
        "id": "7AN1z2sKpx6M"
      }
    },
    {
      "cell_type": "code",
      "source": [
        "# Visualizing evaluation Metric Score chart"
      ],
      "metadata": {
        "id": "xIY4lxxGpx6M"
      },
      "execution_count": null,
      "outputs": []
    },
    {
      "cell_type": "markdown",
      "source": [
        "#### 2. Cross- Validation & Hyperparameter Tuning"
      ],
      "metadata": {
        "id": "9PIHJqyupx6M"
      }
    },
    {
      "cell_type": "code",
      "source": [
        "# ML Model - 3 Implementation with hyperparameter optimization techniques (i.e., GridSearch CV, RandomSearch CV, Bayesian Optimization etc.)\n",
        "\n",
        "# Fit the Algorithm\n",
        "\n",
        "# Predict on the model"
      ],
      "metadata": {
        "id": "eSVXuaSKpx6M"
      },
      "execution_count": null,
      "outputs": []
    },
    {
      "cell_type": "markdown",
      "source": [
        "##### Which hyperparameter optimization technique have you used and why?"
      ],
      "metadata": {
        "id": "_-qAgymDpx6N"
      }
    },
    {
      "cell_type": "markdown",
      "source": [
        "Answer Here."
      ],
      "metadata": {
        "id": "lQMffxkwpx6N"
      }
    },
    {
      "cell_type": "markdown",
      "source": [
        "##### Have you seen any improvement? Note down the improvement with updates Evaluation metric Score Chart."
      ],
      "metadata": {
        "id": "Z-hykwinpx6N"
      }
    },
    {
      "cell_type": "markdown",
      "source": [
        "Answer Here."
      ],
      "metadata": {
        "id": "MzVzZC6opx6N"
      }
    },
    {
      "cell_type": "markdown",
      "source": [
        "### 1. Which Evaluation metrics did you consider for a positive business impact and why?"
      ],
      "metadata": {
        "id": "h_CCil-SKHpo"
      }
    },
    {
      "cell_type": "markdown",
      "source": [
        "Answer Here."
      ],
      "metadata": {
        "id": "jHVz9hHDKFms"
      }
    },
    {
      "cell_type": "markdown",
      "source": [
        "### 2. Which ML model did you choose from the above created models as your final prediction model and why?"
      ],
      "metadata": {
        "id": "cBFFvTBNJzUa"
      }
    },
    {
      "cell_type": "markdown",
      "source": [
        "Answer Here."
      ],
      "metadata": {
        "id": "6ksF5Q1LKTVm"
      }
    },
    {
      "cell_type": "markdown",
      "source": [
        "### 3. Explain the model which you have used and the feature importance using any model explainability tool?"
      ],
      "metadata": {
        "id": "HvGl1hHyA_VK"
      }
    },
    {
      "cell_type": "markdown",
      "source": [
        "Answer Here."
      ],
      "metadata": {
        "id": "YnvVTiIxBL-C"
      }
    },
    {
      "cell_type": "markdown",
      "source": [
        "## ***8.*** ***Future Work (Optional)***"
      ],
      "metadata": {
        "id": "EyNgTHvd2WFk"
      }
    },
    {
      "cell_type": "markdown",
      "source": [
        "### 1. Save the best performing ml model in a pickle file or joblib file format for deployment process.\n"
      ],
      "metadata": {
        "id": "KH5McJBi2d8v"
      }
    },
    {
      "cell_type": "code",
      "source": [
        "# Save the File"
      ],
      "metadata": {
        "id": "bQIANRl32f4J"
      },
      "execution_count": null,
      "outputs": []
    },
    {
      "cell_type": "markdown",
      "source": [
        "### 2. Again Load the saved model file and try to predict unseen data for a sanity check.\n"
      ],
      "metadata": {
        "id": "iW_Lq9qf2h6X"
      }
    },
    {
      "cell_type": "code",
      "source": [
        "# Load the File and predict unseen data."
      ],
      "metadata": {
        "id": "oEXk9ydD2nVC"
      },
      "execution_count": null,
      "outputs": []
    },
    {
      "cell_type": "markdown",
      "source": [
        "### ***Congrats! Your model is successfully created and ready for deployment on a live server for a real user interaction !!!***"
      ],
      "metadata": {
        "id": "-Kee-DAl2viO"
      }
    },
    {
      "cell_type": "markdown",
      "source": [
        "# **Conclusion**"
      ],
      "metadata": {
        "id": "gCX9965dhzqZ"
      }
    },
    {
      "cell_type": "markdown",
      "source": [
        "Write the conclusion here."
      ],
      "metadata": {
        "id": "Fjb1IsQkh3yE"
      }
    },
    {
      "cell_type": "markdown",
      "source": [
        "### ***Hurrah! You have successfully completed your Machine Learning Capstone Project !!!***"
      ],
      "metadata": {
        "id": "gIfDvo9L0UH2"
      }
    }
  ]
}